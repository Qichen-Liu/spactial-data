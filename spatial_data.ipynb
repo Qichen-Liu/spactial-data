{
 "cells": [
  {
   "cell_type": "markdown",
   "metadata": {
    "id": "asasTzdZzEMi"
   },
   "source": [
    "First install the required python dependencies"
   ]
  },
  {
   "cell_type": "code",
   "execution_count": 1,
   "metadata": {
    "id": "zmh3-S7JnZwN"
   },
   "outputs": [],
   "source": [
    "!pip install -q geopandas pandas"
   ]
  },
  {
   "cell_type": "code",
   "execution_count": 2,
   "metadata": {
    "id": "CtF9YHXPom_0"
   },
   "outputs": [
    {
     "name": "stderr",
     "output_type": "stream",
     "text": [
      "ERROR 1: PROJ: proj_create_from_database: Open of /opt/conda/miniconda3/share/proj failed\n"
     ]
    }
   ],
   "source": [
    "import numpy as np\n",
    "import pandas as pd\n",
    "import geopandas as gpd\n",
    "from shapely.geometry import Point\n",
    "from shapely.geometry import Polygon\n",
    "from shapely.geometry import MultiPolygon\n",
    "import math\n",
    "import time"
   ]
  },
  {
   "cell_type": "markdown",
   "metadata": {
    "id": "YLEhjjkuzKIb"
   },
   "source": [
    "Read taxi pickup data from a csv as a data frame using Pandas"
   ]
  },
  {
   "cell_type": "code",
   "execution_count": 3,
   "metadata": {
    "colab": {
     "base_uri": "https://localhost:8080/",
     "height": 195
    },
    "id": "49dAFKjfo2qo",
    "outputId": "dbf9612f-5bd2-4ccc-9cae-bbdba000bae9"
   },
   "outputs": [
    {
     "data": {
      "text/html": [
       "<div>\n",
       "<style scoped>\n",
       "    .dataframe tbody tr th:only-of-type {\n",
       "        vertical-align: middle;\n",
       "    }\n",
       "\n",
       "    .dataframe tbody tr th {\n",
       "        vertical-align: top;\n",
       "    }\n",
       "\n",
       "    .dataframe thead th {\n",
       "        text-align: right;\n",
       "    }\n",
       "</style>\n",
       "<table border=\"1\" class=\"dataframe\">\n",
       "  <thead>\n",
       "    <tr style=\"text-align: right;\">\n",
       "      <th></th>\n",
       "      <th>lon</th>\n",
       "      <th>lat</th>\n",
       "    </tr>\n",
       "  </thead>\n",
       "  <tbody>\n",
       "    <tr>\n",
       "      <th>0</th>\n",
       "      <td>-73.994770</td>\n",
       "      <td>40.736828</td>\n",
       "    </tr>\n",
       "    <tr>\n",
       "      <th>1</th>\n",
       "      <td>-73.982392</td>\n",
       "      <td>40.773382</td>\n",
       "    </tr>\n",
       "    <tr>\n",
       "      <th>2</th>\n",
       "      <td>-73.988570</td>\n",
       "      <td>40.739406</td>\n",
       "    </tr>\n",
       "    <tr>\n",
       "      <th>3</th>\n",
       "      <td>-73.960213</td>\n",
       "      <td>40.770464</td>\n",
       "    </tr>\n",
       "    <tr>\n",
       "      <th>4</th>\n",
       "      <td>-73.995371</td>\n",
       "      <td>40.717248</td>\n",
       "    </tr>\n",
       "  </tbody>\n",
       "</table>\n",
       "</div>"
      ],
      "text/plain": [
       "         lon        lat\n",
       "0 -73.994770  40.736828\n",
       "1 -73.982392  40.773382\n",
       "2 -73.988570  40.739406\n",
       "3 -73.960213  40.770464\n",
       "4 -73.995371  40.717248"
      ]
     },
     "execution_count": 3,
     "metadata": {},
     "output_type": "execute_result"
    }
   ],
   "source": [
    "taxi_pts = pd.read_csv(\"Data/taxi_lab_100k.csv\")\n",
    "taxi_pts.head()\n",
    "#taxi_pts.size # number of tuples times number of columns in data frame\n",
    "#taxi_pts.count() #Count non-NA cells for each column or row.\n",
    "#taxi_pts.shape[0] # number of rows"
   ]
  },
  {
   "cell_type": "markdown",
   "metadata": {
    "id": "gsEoiuSmzOnL"
   },
   "source": [
    "Read the NYC neighbourhood polygons as a data frame using Geo Pandas For details see https://en.wikipedia.org/wiki/Shapefile The shapefile format is a digital vector storage format for storing geographic location and associated attribute information. It stores the geometry of a given feature as a set of vector coordinates."
   ]
  },
  {
   "cell_type": "code",
   "execution_count": 4,
   "metadata": {
    "colab": {
     "base_uri": "https://localhost:8080/",
     "height": 195
    },
    "id": "2B8s2Ih2pCSq",
    "outputId": "d5f7d455-9b8a-4445-f60b-c910b2ff464c"
   },
   "outputs": [
    {
     "data": {
      "text/html": [
       "<div>\n",
       "<style scoped>\n",
       "    .dataframe tbody tr th:only-of-type {\n",
       "        vertical-align: middle;\n",
       "    }\n",
       "\n",
       "    .dataframe tbody tr th {\n",
       "        vertical-align: top;\n",
       "    }\n",
       "\n",
       "    .dataframe thead th {\n",
       "        text-align: right;\n",
       "    }\n",
       "</style>\n",
       "<table border=\"1\" class=\"dataframe\">\n",
       "  <thead>\n",
       "    <tr style=\"text-align: right;\">\n",
       "      <th></th>\n",
       "      <th>boro_code</th>\n",
       "      <th>boro_name</th>\n",
       "      <th>county_fip</th>\n",
       "      <th>ntacode</th>\n",
       "      <th>ntaname</th>\n",
       "      <th>shape_area</th>\n",
       "      <th>shape_leng</th>\n",
       "      <th>geometry</th>\n",
       "    </tr>\n",
       "  </thead>\n",
       "  <tbody>\n",
       "    <tr>\n",
       "      <th>0</th>\n",
       "      <td>3.0</td>\n",
       "      <td>Brooklyn</td>\n",
       "      <td>047</td>\n",
       "      <td>BK88</td>\n",
       "      <td>Borough Park</td>\n",
       "      <td>5.400502e+07</td>\n",
       "      <td>39247.228074</td>\n",
       "      <td>POLYGON ((-73.97605 40.63128, -73.97717 40.630...</td>\n",
       "    </tr>\n",
       "    <tr>\n",
       "      <th>1</th>\n",
       "      <td>4.0</td>\n",
       "      <td>Queens</td>\n",
       "      <td>081</td>\n",
       "      <td>QN51</td>\n",
       "      <td>Murray Hill</td>\n",
       "      <td>5.248828e+07</td>\n",
       "      <td>33266.904811</td>\n",
       "      <td>POLYGON ((-73.80379 40.77561, -73.80099 40.775...</td>\n",
       "    </tr>\n",
       "    <tr>\n",
       "      <th>2</th>\n",
       "      <td>4.0</td>\n",
       "      <td>Queens</td>\n",
       "      <td>081</td>\n",
       "      <td>QN27</td>\n",
       "      <td>East Elmhurst</td>\n",
       "      <td>1.972685e+07</td>\n",
       "      <td>19816.711538</td>\n",
       "      <td>POLYGON ((-73.86110 40.76366, -73.85993 40.762...</td>\n",
       "    </tr>\n",
       "    <tr>\n",
       "      <th>3</th>\n",
       "      <td>4.0</td>\n",
       "      <td>Queens</td>\n",
       "      <td>081</td>\n",
       "      <td>QN07</td>\n",
       "      <td>Hollis</td>\n",
       "      <td>2.288777e+07</td>\n",
       "      <td>20976.335837</td>\n",
       "      <td>POLYGON ((-73.75726 40.71814, -73.75589 40.716...</td>\n",
       "    </tr>\n",
       "    <tr>\n",
       "      <th>4</th>\n",
       "      <td>1.0</td>\n",
       "      <td>Manhattan</td>\n",
       "      <td>061</td>\n",
       "      <td>MN06</td>\n",
       "      <td>Manhattanville</td>\n",
       "      <td>1.064708e+07</td>\n",
       "      <td>17040.686548</td>\n",
       "      <td>POLYGON ((-73.94608 40.82126, -73.94640 40.820...</td>\n",
       "    </tr>\n",
       "  </tbody>\n",
       "</table>\n",
       "</div>"
      ],
      "text/plain": [
       "   boro_code  boro_name county_fip ntacode         ntaname    shape_area  \\\n",
       "0        3.0   Brooklyn        047    BK88    Borough Park  5.400502e+07   \n",
       "1        4.0     Queens        081    QN51     Murray Hill  5.248828e+07   \n",
       "2        4.0     Queens        081    QN27   East Elmhurst  1.972685e+07   \n",
       "3        4.0     Queens        081    QN07          Hollis  2.288777e+07   \n",
       "4        1.0  Manhattan        061    MN06  Manhattanville  1.064708e+07   \n",
       "\n",
       "     shape_leng                                           geometry  \n",
       "0  39247.228074  POLYGON ((-73.97605 40.63128, -73.97717 40.630...  \n",
       "1  33266.904811  POLYGON ((-73.80379 40.77561, -73.80099 40.775...  \n",
       "2  19816.711538  POLYGON ((-73.86110 40.76366, -73.85993 40.762...  \n",
       "3  20976.335837  POLYGON ((-73.75726 40.71814, -73.75589 40.716...  \n",
       "4  17040.686548  POLYGON ((-73.94608 40.82126, -73.94640 40.820...  "
      ]
     },
     "execution_count": 4,
     "metadata": {},
     "output_type": "execute_result"
    }
   ],
   "source": [
    "nbdata = gpd.read_file(\"Data/neighborhoods.shp\")\n",
    "nbdata.head()\n",
    "\n"
   ]
  },
  {
   "cell_type": "code",
   "execution_count": 5,
   "metadata": {
    "id": "eXSC_dIm5gmM",
    "outputId": "917649d8-82fd-4a73-e320-81de50211466"
   },
   "outputs": [
    {
     "name": "stdout",
     "output_type": "stream",
     "text": [
      "Borough Park\n"
     ]
    },
    {
     "data": {
      "image/svg+xml": [
       "<svg xmlns=\"http://www.w3.org/2000/svg\" xmlns:xlink=\"http://www.w3.org/1999/xlink\" width=\"100.0\" height=\"100.0\" viewBox=\"-74.00873449054424 40.61126035101243 0.0372093456853122 0.03468001678908195\" preserveAspectRatio=\"xMinYMin meet\"><g transform=\"matrix(1,0,0,-1,0,81.25720071881395)\"><path fill-rule=\"evenodd\" fill=\"#66cc99\" stroke=\"#555555\" stroke-width=\"0.000744186913706244\" opacity=\"0.6\" d=\"M -73.97604935657381,40.631275905646774 L -73.97716511994669,40.63074665412933 L -73.97699848928193,40.629871496125375 L -73.9768496430902,40.6290885814784 L -73.97669604371914,40.628354564208756 L -73.97657775623188,40.627573186818815 L -73.9765146210018,40.627294490493874 L -73.97644970441577,40.627008255472994 L -73.97623453682755,40.625976350730234 L -73.97726149966773,40.62585277281347 L -73.97719665645002,40.62510197855896 L -73.97710959292857,40.62494825969152 L -73.97694382308202,40.62405275001456 L -73.9768346520651,40.62348104194568 L -73.97675209645574,40.623013312325725 L -73.97656583927008,40.6219949031937 L -73.97695070814679,40.62163000717454 L -73.97705352864567,40.6215325218076 L -73.97539380523678,40.62076998723733 L -73.97682433557303,40.61867580015917 L -73.97752301889588,40.61767654076734 L -73.97785009338068,40.617287607297186 L -73.97562954146068,40.61594539066695 L -73.97537335532121,40.6157547223824 L -73.97544276701358,40.61611409035504 L -73.97548096980225,40.616311925646784 L -73.97444328442452,40.6164216434621 L -73.97335879350746,40.6165417152966 L -73.9729032687732,40.61415296838435 L -73.97399319461375,40.61402989424251 L -73.97517176991693,40.614724185881045 L -73.97497264598458,40.61366811017165 L -73.97489295756654,40.61318636841404 L -73.97477657908586,40.612638474926705 L -73.97520829413772,40.6128852582153 L -73.97740816393038,40.61421811299015 L -73.97963821772845,40.61556454722805 L -73.98003930292397,40.615806929667464 L -73.98087912717756,40.61631443478813 L -73.98186818177174,40.616912126603715 L -73.98406791700634,40.618240739302585 L -73.9862752464371,40.61956661658963 L -73.98569357758225,40.62013151444749 L -73.9878509553418,40.62143503244062 L -73.99009356051286,40.62278895334304 L -73.9925497355062,40.624274268779175 L -73.9939819708341,40.62514139905051 L -73.9943249734734,40.625342908797386 L -73.99489280561376,40.6254617941917 L -73.99473485679263,40.62561474060342 L -73.99464972974172,40.62569717922155 L -73.99507814869848,40.6258067378371 L -73.99678847465344,40.62682605141271 L -73.99687778287792,40.62653078256234 L -73.99701633648009,40.626061615450624 L -73.99724066973769,40.62528868702801 L -73.99811614328407,40.62581570660958 L -74.00031369476771,40.62714458259374 L -74.00251454806298,40.62847420956256 L -74.00222793330279,40.62875116964377 L -74.00193011441125,40.62903276789135 L -74.00306153964817,40.62971517540458 L -74.00368597245085,40.6300917810278 L -74.00413727902603,40.63036396583656 L -74.00633870587023,40.631693626683614 L -74.00702302420386,40.632109995476426 L -74.00680677785549,40.63225039123536 L -74.00661914959808,40.63237545858945 L -74.00630615538647,40.63258408846229 L -74.00556490392157,40.6330831764142 L -74.00735636662998,40.63416362723899 L -74.00675122718053,40.63474478652965 L -74.00641784683815,40.63506485045547 L -74.00616926871128,40.635303501916034 L -74.00558613003881,40.63586622903328 L -74.00500346461641,40.63642523517756 L -74.00442048380327,40.6369849863617 L -74.00411104085093,40.63728296100241 L -74.00383793024848,40.637545931867415 L -74.00325273063682,40.638104262022914 L -74.00267214276688,40.63866701047 L -74.00236943480249,40.63895767781394 L -74.0020907543513,40.6392252543082 L -74.00150771254626,40.6397849620733 L -74.00092541773434,40.64034590202875 L -74.00066078180645,40.64059930920131 L -74.00034122066634,40.64090531617318 L -73.99975690778916,40.64146715044591 L -73.9991756471891,40.642025442029095 L -73.99697357409411,40.64069410459458 L -73.99551033762245,40.63980966713005 L -73.99479539539372,40.640288487384396 L -73.99433124126968,40.6406002879529 L -73.99407691943155,40.64077040176031 L -73.99336253671026,40.64124779897801 L -73.9926445605762,40.641728290946446 L -73.99192812309575,40.642204904086064 L -73.99121277380051,40.64268589050532 L -73.99049634016635,40.643164441188354 L -73.98977890208096,40.643644886730904 L -73.98905872393608,40.64411924103919 L -73.98834986671028,40.64456224388724 L -73.98749940592022,40.64404551035482 L -73.98673080569073,40.64357399370719 L -73.985896444915,40.64306759533013 L -73.98509519573028,40.64257305584104 L -73.984587194825,40.6422620045726 L -73.98430293077354,40.64208456309321 L -73.98331628452111,40.6414786828331 L -73.98299419241442,40.6413249968491 L -73.98244454219795,40.64153862556193 L -73.98204321765255,40.6417075820055 L -73.98123240501364,40.6420449138903 L -73.98042057821881,40.64238522690571 L -73.98007428428876,40.640539699847835 L -73.98000692936493,40.64020883825705 L -73.97990983072508,40.63968635791163 L -73.9798736023273,40.639518205950324 L -73.9796770495655,40.63846479981803 L -73.97955441096184,40.637819259690545 L -73.97947592089827,40.63743136398443 L -73.97938644718404,40.63693216348757 L -73.9792859167079,40.63641419419115 L -73.97911188671777,40.63544038643925 L -73.97802158878163,40.6355527029051 L -73.97688861080518,40.6356748620281 L -73.97663656021153,40.63435382127075 L -73.97655064148618,40.633903509144076 L -73.97643342179832,40.63328912259067 L -73.97604935657381,40.631275905646774 z\" /></g></svg>"
      ],
      "text/plain": [
       "<shapely.geometry.polygon.Polygon at 0x7faff2c46970>"
      ]
     },
     "execution_count": 5,
     "metadata": {},
     "output_type": "execute_result"
    }
   ],
   "source": [
    "print(nbdata.iloc[0].ntaname)\n",
    "nbdata.iloc[0].geometry\n"
   ]
  },
  {
   "cell_type": "code",
   "execution_count": 6,
   "metadata": {
    "id": "H0Pm8rUC5gmN",
    "outputId": "76eee468-47ae-4055-ea46-c13f97a71ad4"
   },
   "outputs": [
    {
     "name": "stdout",
     "output_type": "stream",
     "text": [
      "0    POLYGON ((-73.97605 40.63128, -73.97717 40.63075, -73.97700 40.62987, -73.97685 40.62909, -73.97670 40.62835, -73.97658 40.62757, -73.97651 40.62729, -73.97645 40.62701, -73.97623 40.62598, -73.97726 40.62585, -73.97720 40.62510, -73.97711 40.62495, -73.97694 40.62405, -73.97683 40.62348, -73.97675 40.62301, -73.97657 40.62199, -73.97695 40.62163, -73.97705 40.62153, -73.97539 40.62077, -73.97682 40.61868, -73.97752 40.61768, -73.97785 40.61729, -73.97563 40.61595, -73.97537 40.61575, -73.97544 40.61611, -73.97548 40.61631, -73.97444 40.61642, -73.97336 40.61654, -73.97290 40.61415, -73.97399 40.61403, -73.97517 40.61472, -73.97497 40.61367, -73.97489 40.61319, -73.97478 40.61264, -73.97521 40.61289, -73.97741 40.61422, -73.97964 40.61556, -73.98004 40.61581, -73.98088 40.61631, -73.98187 40.61691, -73.98407 40.61824, -73.98628 40.61957, -73.98569 40.62013, -73.98785 40.62144, -73.99009 40.62279, -73.99255 40.62427, -73.99398 40.62514, -73.99432 40.62534, -73.99489 40.62546, -73.99473 40.62561, -73.99465 40.62570, -73.99508 40.62581, -73.99679 40.62683, -73.99688 40.62653, -73.99702 40.62606, -73.99724 40.62529, -73.99812 40.62582, -74.00031 40.62714, -74.00251 40.62847, -74.00223 40.62875, -74.00193 40.62903, -74.00306 40.62972, -74.00369 40.63009, -74.00414 40.63036, -74.00634 40.63169, -74.00702 40.63211, -74.00681 40.63225, -74.00662 40.63238, -74.00631 40.63258, -74.00556 40.63308, -74.00736 40.63416, -74.00675 40.63474, -74.00642 40.63506, -74.00617 40.63530, -74.00559 40.63587, -74.00500 40.63643, -74.00442 40.63698, -74.00411 40.63728, -74.00384 40.63755, -74.00325 40.63810, -74.00267 40.63867, -74.00237 40.63896, -74.00209 40.63923, -74.00151 40.63978, -74.00093 40.64035, -74.00066 40.64060, -74.00034 40.64091, -73.99976 40.64147, -73.99918 40.64203, -73.99697 40.64069, -73.99551 40.63981, -73.99480 40.64029, -73.99433 40.64060, -73.99408 40.64077, -73.99336 40.64125, -73.99264 40.64173, -73.99193 40.64220, -73.99121 40.64269, -73.99050 40.64316, -73.98978 40.64364, -73.98906 40.64412, -73.98835 40.64456, -73.98750 40.64405, -73.98673 40.64357, -73.98590 40.64307, -73.98510 40.64257, -73.98459 40.64226, -73.98430 40.64208, -73.98332 40.64148, -73.98299 40.64132, -73.98244 40.64154, -73.98204 40.64171, -73.98123 40.64204, -73.98042 40.64239, -73.98007 40.64054, -73.98001 40.64021, -73.97991 40.63969, -73.97987 40.63952, -73.97968 40.63846, -73.97955 40.63782, -73.97948 40.63743, -73.97939 40.63693, -73.97929 40.63641, -73.97911 40.63544, -73.97802 40.63555, -73.97689 40.63567, -73.97664 40.63435, -73.97655 40.63390, -73.97643 40.63329, -73.97605 40.63128))\n",
      "Name: geometry, dtype: geometry\n"
     ]
    }
   ],
   "source": [
    "# what a polygon looks like\n",
    "with pd.option_context(\"display.max_colwidth\", None):\n",
    "    print(nbdata['geometry'].head(1))\n"
   ]
  },
  {
   "cell_type": "markdown",
   "metadata": {
    "id": "fSlZ9U2W5gmN"
   },
   "source": [
    "https://www.earthdatascience.org/courses/earth-analytics/spatial-data-r/intro-to-coordinate-reference-systems/\n",
    "\n",
    "A coordinate reference system (CRS) refers to the way in which spatial data that represent the earth’s surface (which is round / 3 dimensional) are flattened so that you can “Draw” them on a 2-dimensional surface. However each using a different (sometimes) mathematical approach to performing the flattening resulting in different coordinate system grids (discussed below). These approaches to flattening the data are specifically designed to optimize the accuracy of the data in terms of length and area (more on that later too).\n",
    "\n",
    "Notice in the figure below the differences in shape and orientation associated with each CRS. These differences are a direct result of the calculations used to \"flatten\" the data onto a two dimensional map. "
   ]
  },
  {
   "cell_type": "markdown",
   "metadata": {
    "id": "VeB05H4g5gmO"
   },
   "source": [
    "![compare-mercator-utm-wgs-projections.jpg](attachment:compare-mercator-utm-wgs-projections.jpg)"
   ]
  },
  {
   "cell_type": "code",
   "execution_count": 7,
   "metadata": {
    "id": "ZmohFnrP5gmO",
    "outputId": "73bd0b38-69de-4b3c-b8ff-06ee14137622"
   },
   "outputs": [
    {
     "data": {
      "text/plain": [
       "<Geographic 2D CRS: GEOGCS[\"WGS84(DD)\",DATUM[\"WGS84\",SPHEROID[\"WGS84\", ...>\n",
       "Name: WGS84(DD)\n",
       "Axis Info [ellipsoidal]:\n",
       "- lon[east]: Longitude (degree)\n",
       "- lat[north]: Latitude (degree)\n",
       "Area of Use:\n",
       "- undefined\n",
       "Datum: WGS84\n",
       "- Ellipsoid: WGS84\n",
       "- Prime Meridian: Greenwich"
      ]
     },
     "execution_count": 7,
     "metadata": {},
     "output_type": "execute_result"
    }
   ],
   "source": [
    "# coordinate reference system used\n",
    "# see https://www.earthdatascience.org/courses/earth-analytics/spatial-data-r/intro-to-coordinate-reference-systems/\n",
    "\n",
    "nbdata.crs\n"
   ]
  },
  {
   "cell_type": "code",
   "execution_count": 8,
   "metadata": {
    "id": "ed1QN8Eq5gmP",
    "outputId": "1cc9992a-6ee8-46c9-d863-b6b028aa57a4"
   },
   "outputs": [
    {
     "data": {
      "text/plain": [
       "Text(0.5, 1.0, 'NYC WGS84 (lat/lon)')"
      ]
     },
     "execution_count": 8,
     "metadata": {},
     "output_type": "execute_result"
    },
    {
     "data": {
      "image/png": "[encoded data removed]",
      "text/plain": [
       "<Figure size 432x288 with 1 Axes>"
      ]
     },
     "metadata": {
      "needs_background": "light"
     },
     "output_type": "display_data"
    }
   ],
   "source": [
    "plotnyc = nbdata.plot()\n",
    "plotnyc.set_title(\"NYC WGS84 (lat/lon)\")\n"
   ]
  },
  {
   "cell_type": "code",
   "execution_count": 9,
   "metadata": {
    "id": "inQmrk5t5gmP",
    "outputId": "d17be7a8-ee0b-400a-a380-13fe11ca734d"
   },
   "outputs": [
    {
     "data": {
      "text/plain": [
       "Text(0.5, 1.0, 'NYC Mercator')"
      ]
     },
     "execution_count": 9,
     "metadata": {},
     "output_type": "execute_result"
    },
    {
     "data": {
      "image/png": "[encoded data removed]",
      "text/plain": [
       "<Figure size 432x288 with 1 Axes>"
      ]
     },
     "metadata": {
      "needs_background": "light"
     },
     "output_type": "display_data"
    }
   ],
   "source": [
    "# note the differences in the coordinate systems\n",
    "\n",
    "nbdata_mercator = nbdata.to_crs(\"EPSG:3395\")\n",
    "plotnyc_mercator = nbdata_mercator.plot()\n",
    "plotnyc_mercator.set_title(\"NYC Mercator\")"
   ]
  },
  {
   "cell_type": "markdown",
   "metadata": {
    "id": "o1j5SSCq5gmP"
   },
   "source": [
    "Function to perform a brute force search to query for all points that are inside a query polygon.\n",
    "We use shapely to perform this check. Shapely is a Python package that supports geometric types and operations. For details see: https://shapely.readthedocs.io/en/stable/manual.html\n"
   ]
  },
  {
   "cell_type": "code",
   "execution_count": 10,
   "metadata": {
    "id": "FBxjSm7fp4H_"
   },
   "outputs": [],
   "source": [
    "# takes a dataframe pts (list of points) and a polygon queryPoly and returns\n",
    "# a list of points that lie within the polygon\n",
    "def bruteForceSearch(pts,queryPoly):\n",
    "  result = []\n",
    "\n",
    "  num_points = pts.shape[0]  # number of rows in pts\n",
    "  for i in range(num_points):\n",
    "    # create a shapely geometric object for point\n",
    "    pt = Point(pts['lon'][i],pts['lat'][i]) # The Point constructor takes positional \n",
    "                                            # coordinate values or point tuple parameters\n",
    "    # checks if pt lies within queryPoly using a point-in-polygon test\n",
    "    if queryPoly.contains(pt) == True:   \n",
    "      result.append(i)\n",
    "  \n",
    "  return result"
   ]
  },
  {
   "cell_type": "markdown",
   "metadata": {
    "id": "MHSA9DphzX6C"
   },
   "source": [
    "Choose a query polygon from the set of neighborhoods"
   ]
  },
  {
   "cell_type": "code",
   "execution_count": 11,
   "metadata": {
    "colab": {
     "base_uri": "https://localhost:8080/",
     "height": 121
    },
    "id": "T87WGrXLqjbI",
    "outputId": "4946df4e-f90e-46b6-fae3-4a440f077049"
   },
   "outputs": [
    {
     "data": {
      "image/svg+xml": [
       "<svg xmlns=\"http://www.w3.org/2000/svg\" xmlns:xlink=\"http://www.w3.org/1999/xlink\" width=\"100.0\" height=\"100.0\" viewBox=\"-74.02034504113422 40.69306658869272 0.02657819476843315 0.02706736201586324\" preserveAspectRatio=\"xMinYMin meet\"><g transform=\"matrix(1,0,0,-1,0,81.41320053940132)\"><g><path fill-rule=\"evenodd\" fill=\"#66cc99\" stroke=\"#555555\" stroke-width=\"0.0005413472403172648\" opacity=\"0.6\" d=\"M -74.00078295209646,40.69428651616718 L -74.0009586835096,40.6940690835822 L -74.0030139369702,40.69477784447918 L -74.0026355675811,40.6953620370376 L -74.00239802583796,40.69571165536707 L -74.00026872245725,40.6949658030805 L -74.00070104679108,40.694387856342225 L -74.00078295209646,40.69428651616718 z\" /><path fill-rule=\"evenodd\" fill=\"#66cc99\" stroke=\"#555555\" stroke-width=\"0.0005413472403172648\" opacity=\"0.6\" d=\"M -74.00043147274401,40.697052466681114 L -73.99959333449176,40.69678226197695 L -73.99953135202674,40.696876613121965 L -73.99958770006693,40.69689805666555 L -73.99955389083671,40.69694523239681 L -73.99940738376924,40.69688518994862 L -73.99950317795836,40.69672650769631 L -73.99947406754572,40.696704134461974 L -73.99952373837482,40.69657482604084 L -74.00048933405957,40.696926195088054 L -74.00043147274401,40.697052466681114 z\" /><path fill-rule=\"evenodd\" fill=\"#66cc99\" stroke=\"#555555\" stroke-width=\"0.0005413472403172648\" opacity=\"0.6\" d=\"M -73.99837760685772,40.69806329614608 L -73.99887117097656,40.69715757729581 L -74.0010490299149,40.69790823619481 L -74.00048768496482,40.698757778137114 L -73.99837760685772,40.69806329614608 z\" /><path fill-rule=\"evenodd\" fill=\"#66cc99\" stroke=\"#555555\" stroke-width=\"0.0005413472403172648\" opacity=\"0.6\" d=\"M -73.99799957540132,40.69879768554428 L -73.99802102725111,40.69876173657377 L -74.0000184043362,40.69946604807362 L -73.99947463838926,40.70032277751574 L -73.9974989831,40.699638869321234 L -73.99799957540132,40.69879768554428 z\" /><path fill-rule=\"evenodd\" fill=\"#66cc99\" stroke=\"#555555\" stroke-width=\"0.0005413472403172648\" opacity=\"0.6\" d=\"M -73.9953844831661,40.7026430100658 L -73.99669768931427,40.70087697691704 L -73.99682189085863,40.70099078232528 L -73.99752763207937,40.70122881645611 L -73.9977601103362,40.701359414876706 L -73.99780162786313,40.70131939476623 L -73.99813879899456,40.70151878774579 L -73.99619227162691,40.70337714136668 L -73.99588611884143,40.703260077587544 L -73.99513826774646,40.702974114722814 L -73.99526015183419,40.702810209538754 L -73.9953844831661,40.7026430100658 z\" /><path fill-rule=\"evenodd\" fill=\"#66cc99\" stroke=\"#555555\" stroke-width=\"0.0005413472403172648\" opacity=\"0.6\" d=\"M -73.99502134649177,40.703147869246735 L -73.99504592748325,40.70313183979956 L -73.99544564246025,40.703275305974316 L -73.99529346700933,40.703554065897976 L -73.99498203312825,40.70338171553518 L -73.99480038274864,40.70329195864457 L -73.99502134649177,40.703147869246735 z\" /><path fill-rule=\"evenodd\" fill=\"#66cc99\" stroke=\"#555555\" stroke-width=\"0.0005413472403172648\" opacity=\"0.6\" d=\"M -73.99476934125526,40.70395289495352 L -73.99488239968474,40.703788025837426 L -73.99491043003475,40.7037973164613 L -73.99492964609247,40.70377131558635 L -73.99502925916451,40.70380820036543 L -73.99488204726408,40.70400865389516 L -73.99483637435264,40.703986339081 L -73.99476934125526,40.70395289495352 z\" /><path fill-rule=\"evenodd\" fill=\"#66cc99\" stroke=\"#555555\" stroke-width=\"0.0005413472403172648\" opacity=\"0.6\" d=\"M -74.0124410914674,40.71905767270346 L -74.0128156684485,40.717356298851485 L -74.01286663121735,40.71717610076887 L -74.0130793551221,40.71646715131207 L -74.01318960084242,40.71602008586337 L -74.01326739625529,40.71567191733446 L -74.01337858787006,40.71523789452328 L -74.0134146411971,40.715101929842035 L -74.01358589322903,40.714488878333555 L -74.01384128358336,40.71372903200837 L -74.01372415114957,40.713678309659144 L -74.01308465817073,40.71340719618777 L -74.01254692420203,40.71316685721835 L -74.01178724137003,40.71283074809273 L -74.01167912782698,40.7127805480978 L -74.01012167403928,40.71208469638959 L -74.00883879402134,40.71150395934208 L -74.00860085337284,40.71139223970903 L -74.00834760912973,40.71135854555399 L -74.00796787713409,40.71144733312328 L -74.0074674943554,40.711566902706785 L -74.00738921410591,40.711642269606735 L -74.0069858405293,40.711737498536095 L -74.00613488876287,40.7119481527406 L -74.0060354662926,40.7119061888015 L -74.00594294507674,40.71195568058295 L -74.00546003126505,40.7120737210593 L -74.00539122687442,40.71208058807595 L -74.00532187480752,40.712082416985986 L -74.00525261135324,40.712079190977256 L -74.00518407076275,40.7120709396348 L -74.0051104324503,40.712053905062895 L -74.00503924397407,40.712031642728554 L -74.0049711447722,40.7120043523387 L -74.00490674637815,40.71197227923591 L -74.00473337727364,40.71187604425413 L -74.00466676033682,40.71184291345221 L -74.00459760403179,40.71181294657954 L -74.00452616754647,40.71178625594634 L -74.00419296550659,40.711670933103456 L -74.00409614270096,40.711635240407034 L -74.00400134315402,40.71159653056747 L -74.00390872915273,40.71155486985336 L -74.00381845953001,40.7115103294823 L -74.00373068851268,40.71146298583823 L -74.00364556635014,40.7114129199685 L -74.00353144192037,40.71139214565565 L -74.00333184733802,40.711242082933545 L -74.00328686348286,40.711207248830426 L -74.0027677275943,40.71078930254757 L -74.00267634471687,40.71071582686025 L -74.00173689006432,40.709960170534764 L -74.00155908170447,40.70981710784749 L -74.0014714023208,40.709746554323246 L -74.00134439781638,40.70964629295892 L -74.00055004887021,40.70901791729949 L -74.00026566682726,40.70879294941706 L -74.00019103138898,40.70873391286471 L -74.00012359123079,40.708684519280695 L -74.00000765523282,40.70859961998637 L -73.99992936291538,40.708536817589874 L -73.99981193792472,40.70844261498327 L -73.9995627336694,40.70823648314756 L -73.9994428130838,40.70813655675656 L -73.99939955007633,40.708100337857566 L -73.99936195582275,40.708072286588326 L -73.99928731116864,40.708016603168765 L -73.99919451042807,40.70794737685405 L -73.99925945470771,40.70791402181297 L -73.99932632675426,40.7078796769965 L -73.99938225177358,40.707841549824096 L -73.99942129138607,40.70781893755788 L -73.99946033075193,40.707796325948486 L -73.99952324875022,40.70776262865813 L -73.9995121129871,40.70774870660909 L -73.99949062474623,40.70772184472241 L -73.99953839593407,40.70769347002565 L -73.99955121325496,40.7076943527765 L -73.9995714951379,40.70771719818587 L -73.9996094803925,40.70775997367887 L -73.9998829708522,40.707624086537884 L -73.9999485594979,40.707591496370966 L -73.99994505655111,40.7075826274859 L -73.9999485595232,40.70755869105115 L -73.99995671196261,40.70753119885585 L -73.99997222648798,40.70750639882204 L -73.99999645016025,40.707491647898486 L -74.00013868859142,40.707405054910076 L -74.00023380525761,40.70734714298942 L -74.0004002783203,40.70726027957068 L -74.00055247932056,40.70718427542038 L -74.00077175219104,40.707080148703334 L -74.00084973367689,40.70704311863653 L -74.00088259097623,40.707025253300515 L -74.0011868526283,40.70685982526918 L -74.001131305772,40.706799050181935 L -74.00122367472778,40.70674526164775 L -74.00123213691967,40.706740336428396 L -74.00122701299958,40.70673486990648 L -74.00116039022576,40.70666372083431 L -74.00117521544942,40.70664874526913 L -74.00116913275501,40.706639497667766 L -74.00117643501645,40.7066350582928 L -74.0011760207968,40.70662757435898 L -74.00098276625691,40.70641671349552 L -74.00140533024054,40.70618013470528 L -74.00140666691954,40.706179388020644 L -74.00140581495842,40.706178612883114 L -74.0005829704798,40.705433934151486 L -74.0005924020935,40.70541007891093 L -74.00084523503796,40.70525451884621 L -74.00143719471636,40.704872224438034 L -74.00145437418846,40.70487330292948 L -74.00146085765638,40.7048737173095 L -74.00183509983016,40.70521225932494 L -74.00205517727979,40.70541134986922 L -74.00206142563808,40.705417005138166 L -74.00206282084557,40.705416076845374 L -74.00212278686422,40.705379002672466 L -74.0021581834855,40.705357119118524 L -74.00256965059467,40.70552357952351 L -74.00268512768794,40.70544924811866 L -74.00236285311746,40.705158966692586 L -74.00241573476919,40.705129311282505 L -74.00238385392304,40.705101270753396 L -74.00197070331905,40.704737867984626 L -74.00197014837806,40.704731159704906 L -74.00203201379027,40.70469295373008 L -74.00217184875859,40.704606596463684 L -74.00218562331565,40.70460701887393 L -74.00233344621164,40.70474813530699 L -74.00233393075764,40.70474260690158 L -74.00242059318666,40.704680334101184 L -74.00243071075865,40.704677858004345 L -74.0024883982926,40.70472677285378 L -74.00248790148638,40.70473376058905 L -74.00239832748956,40.70479492564343 L -74.00238670740679,40.70479566367449 L -74.00332307270787,40.70562859522006 L -74.00358262337757,40.705461128831146 L -74.00363187169326,40.705429806751745 L -74.00364446183865,40.70542168413622 L -74.00383327532259,40.70530324352897 L -74.00366217837693,40.70514975923657 L -74.0035839088607,40.705192648645415 L -74.00355259884715,40.70516644083421 L -74.00363086835274,40.7051235514465 L -74.00262896407828,40.70422295278143 L -74.002866897815,40.704075225511566 L -74.00405666439265,40.70514736343892 L -74.00426687037428,40.70501166020204 L -74.00458622952465,40.70479945067928 L -74.00484062758743,40.70463977952651 L -74.00492037826479,40.704591004973324 L -74.0051880506732,40.704420535188014 L -74.00521160900404,40.704405532235334 L -74.00526035763149,40.70437448891273 L -74.00535027224755,40.70431007996153 L -74.00566330640653,40.704104243975614 L -74.00589129888934,40.703959853944546 L -74.00602048621096,40.70387490010186 L -74.00614106753558,40.703980973937995 L -74.00634215560272,40.70384982210485 L -74.00643259271948,40.70379118944905 L -74.00659591913875,40.703685902451845 L -74.006320807539,40.70346676102887 L -74.00631484453379,40.70346132409443 L -74.00630030711402,40.70344823498832 L -74.0059114573594,40.703098111430414 L -74.00589941745793,40.70308727019193 L -74.0058874726644,40.70307651572638 L -74.00555843304458,40.702781256387276 L -74.0054838408244,40.70271432213405 L -74.00552682615239,40.70268528761711 L -74.00550531272071,40.70266684658556 L -74.00547130861273,40.70268982858091 L -74.00543599697322,40.702659555913954 L -74.00542728826248,40.70266543619403 L -74.00530412596079,40.70255986563302 L -74.00549427805099,40.70243138145297 L -74.00550166067454,40.70243086729444 L -74.00561361797627,40.70253024203234 L -74.00560163196417,40.70253806027247 L -74.00560905264523,40.70255281905628 L -74.00559479419792,40.702568019826934 L -74.00559935034438,40.7025801678393 L -74.00559022977765,40.70258581428387 L -74.00559194611436,40.702598836423725 L -74.00558509547804,40.702604050202375 L -74.00558909594902,40.70261273059684 L -74.00553546138171,40.70264552060426 L -74.00555771998816,40.702664394652025 L -74.00567522183816,40.70258407219759 L -74.00598430339494,40.70286001804111 L -74.00608976093835,40.70295112049115 L -74.00623870442493,40.703079789301604 L -74.00636372730409,40.703187792252514 L -74.00646028765708,40.70327120753152 L -74.00649425125069,40.70330054817182 L -74.00654880812658,40.70336761558846 L -74.00655720878513,40.70336314883586 L -74.00675541517992,40.703541489476834 L -74.00678502191047,40.70356812740269 L -74.00699466002457,40.7034411885666 L -74.00722046663674,40.70330197730325 L -74.007519052838,40.703121820237115 L -74.00752714979264,40.70311498091355 L -74.00760498179518,40.702993141155815 L -74.00764555161301,40.70292817427634 L -74.00769798694176,40.702849278546786 L -74.00795594821949,40.70269252944199 L -74.00836148391231,40.70244453901637 L -74.00911037361746,40.701983870511015 L -74.00914202129333,40.70197284890015 L -74.00929072600606,40.70193007131938 L -74.00869964313567,40.70113986754221 L -74.0077554915064,40.70154800167179 L -74.00759136204213,40.70132808054552 L -74.00853611510774,40.70091969574505 L -74.00834927559107,40.70066934889079 L -74.00862036163869,40.700552163713255 L -74.00958482951567,40.70183738556327 L -74.01105603841502,40.701454181412075 L -74.0111808830355,40.70145139275627 L -74.01110775373041,40.70127576447365 L -74.01128983905515,40.701249981741675 L -74.0112097577877,40.701044583273756 L -74.01112868539609,40.70106489745045 L -74.01107837974551,40.700957120315074 L -74.01106708568963,40.70091494089484 L -74.01110886351545,40.70090142010371 L -74.01109386310785,40.700866410873616 L -74.01109337389363,40.70085125607299 L -74.01107872437127,40.70085194903638 L -74.01105584312833,40.70081153127281 L -74.01105943295765,40.70080262099245 L -74.01103748928746,40.7007571312481 L -74.01101538388575,40.700741124296485 L -74.01102945843246,40.7007311709937 L -74.01101999621277,40.70071239494581 L -74.01100668016302,40.70071138770606 L -74.01099272755786,40.70069059304705 L -74.0110085466105,40.70068355723434 L -74.01100361903022,40.70066806679778 L -74.0109913441061,40.70067335177942 L -74.01096997178936,40.70064553659218 L -74.01098841773411,40.70063424450253 L -74.01095827294422,40.7005745921026 L -74.01093617683645,40.70057584194702 L -74.01092482717041,40.70056679353891 L -74.01092557334937,40.70055583199386 L -74.01094712848688,40.700537743035746 L -74.01091918086524,40.700486463091885 L -74.01090496934053,40.7004917842665 L -74.01088462599306,40.700461427409614 L -74.0109036642329,40.70045138151237 L -74.01078537980491,40.70023251447074 L -74.01079959311006,40.70020721300696 L -74.01081530667369,40.70020044410115 L -74.01085157384671,40.700238511084905 L -74.01093093205078,40.70041515233439 L -74.01100364429965,40.7005811094415 L -74.01104377249553,40.70068284572219 L -74.01107427409931,40.700748337393605 L -74.01110436404362,40.70081064993193 L -74.01113362156885,40.70086787440557 L -74.01115033556847,40.70089840060352 L -74.01135836291346,40.700851958133754 L -74.01130318855132,40.70064784453897 L -74.01129816432253,40.70059888452929 L -74.0113098641094,40.70057980068849 L -74.01133409344374,40.70056835317976 L -74.01136082267432,40.700565810999244 L -74.01138171809612,40.70057025762047 L -74.01139508123386,40.700590607673746 L -74.01143269846217,40.700674541618895 L -74.01146947437395,40.70074892825803 L -74.01150291143712,40.70081505897421 L -74.01172926817485,40.700770118562254 L -74.01170009248338,40.70072153863589 L -74.01168275331669,40.70069334506211 L -74.01166539833076,40.70063756109282 L -74.01163149614052,40.7005553922499 L -74.01161019769842,40.700493006421524 L -74.01161413587113,40.70047261846256 L -74.01163147918658,40.70045821875069 L -74.01167798034295,40.70046181520745 L -74.01170321011992,40.70048100238678 L -74.0117260583568,40.70047860442187 L -74.01175129264944,40.700530788088855 L -74.01177730827737,40.70057097437492 L -74.0118261923343,40.70066634278202 L -74.01183407601519,40.70068613447613 L -74.01184827026107,40.700729925303335 L -74.01185378549589,40.70073892145015 L -74.01199159781125,40.70070483096382 L -74.01208668214693,40.70068130873918 L -74.01208509311927,40.70066451530651 L -74.01206932171665,40.70059973334407 L -74.01203856797002,40.7005289563097 L -74.01197670642495,40.7003784242992 L -74.01190488098494,40.700226930001975 L -74.01185672490958,40.70010710340847 L -74.01193096250532,40.70005120965436 L -74.01196196116918,40.70003754559545 L -74.01204027864169,40.700048091645606 L -74.01208842025646,40.70008658368952 L -74.0121275950614,40.70014308650671 L -74.0121577915851,40.70021137814554 L -74.01217247960996,40.70023311559768 L -74.0122369454993,40.700321277341686 L -74.01225490284908,40.700364734844044 L -74.0123185597424,40.70048828709006 L -74.01236222440272,40.7005758304646 L -74.01239160032276,40.700620527591425 L -74.01259392327508,40.70057083347242 L -74.01259064684231,40.70051185101067 L -74.01255471870938,40.700359730657745 L -74.01252899955233,40.700252320356945 L -74.01251593564201,40.70018464898272 L -74.01251511214089,40.70015049211089 L -74.01254202780166,40.7001349741483 L -74.01261382087355,40.7001082653085 L -74.0126480885808,40.7001150877804 L -74.01268072728449,40.70014675538145 L -74.01273499158562,40.70021877270095 L -74.01279619139243,40.70030009938202 L -74.01283454933399,40.7003528742319 L -74.01286637756563,40.70040751337172 L -74.01288188337338,40.70044165938361 L -74.01290474249372,40.70049691216278 L -74.01290881793956,40.7005236116935 L -74.0130020533556,40.70051602846545 L -74.01310747847371,40.700507452180645 L -74.01311155389506,40.700472053044614 L -74.01311153191469,40.70036029110572 L -74.01309395831629,40.700223693239856 L -74.01307843485952,40.70010324258423 L -74.0130249570558,40.69988283070864 L -74.01301189199823,40.6998182566313 L -74.01302085636725,40.69979341886542 L -74.0130437002641,40.69977478523851 L -74.01311303826304,40.699774165382664 L -74.01314078965102,40.69980333842806 L -74.01315384897731,40.69984494048537 L -74.01316691560767,40.699931244337655 L -74.01317753563323,40.70001754746247 L -74.01318571684631,40.70010323034386 L -74.01320084197307,40.70023982747352 L -74.01320736787197,40.700275216518826 L -74.013222880169,40.700333586085414 L -74.01327349417049,40.70049687022784 L -74.01348560832749,40.700478223410975 L -74.01348068493712,40.70035777157098 L -74.01348311536113,40.700263388116284 L -74.01350349594829,40.70017645952836 L -74.01353285018092,40.700108160920664 L -74.01358669315087,40.70007959034501 L -74.01361029764675,40.70008429758462 L -74.01367479248769,40.70012582195348 L -74.01366274837818,40.70013665603026 L -74.01364265186712,40.70016178331196 L -74.01361182137065,40.700245173645555 L -74.01357049009931,40.70023220236879 L -74.01356130931909,40.70029512215821 L -74.01353310205647,40.70029712474831 L -74.01353047796485,40.70031110084905 L -74.01356131236537,40.70031009758511 L -74.01356034144293,40.70036653393983 L -74.01352950823129,40.70037352412418 L -74.0135314747603,40.70038201618361 L -74.01356297111606,40.70038001320642 L -74.01355970482886,40.700438933924914 L -74.01352361756746,40.70044193808089 L -74.013522959189,40.70046041540698 L -74.0135806988676,40.70045691449311 L -74.01358541666433,40.70050191275638 L -74.0135528309743,40.700503357164635 L -74.01357712756541,40.7006436819787 L -74.01351039592653,40.700650371152065 L -74.01355826959487,40.700939870830524 L -74.01395152690485,40.70099098296261 L -74.01433920985534,40.7011326800991 L -74.01411459711295,40.70117801677152 L -74.01372314375055,40.70113302140138 L -74.01374768276332,40.70120035637356 L -74.01381405524452,40.70130626667193 L -74.0139791267725,40.70153107060746 L -74.01401128818107,40.70197612433064 L -74.01400917758464,40.70198734326948 L -74.01400504314476,40.70199823106846 L -74.01399896475229,40.70200857733723 L -74.01399105986219,40.70201818214964 L -74.01398208481845,40.702029610270564 L -74.01396697992033,40.702044202134736 L -74.01394918370586,40.70205691577126 L -74.01392909446713,40.7020674666388 L -74.01390716181658,40.70207561860042 L -74.01388387662433,40.70208118920853 L -74.01387197492193,40.70208177508169 L -74.01386034916806,40.70208380081165 L -74.01384929813966,40.702087214338036 L -74.01383910584363,40.70209192793464 L -74.0138300342179,40.70209782046397 L -74.01382231639987,40.70210474049051 L -74.01381615073474,40.702112510172306 L -74.01381169567827,40.702120929831665 L -74.01380906572435,40.70212978308656 L -74.0138083284625,40.7021388424117 L -74.01380950284091,40.70214787498574 L -74.01381943931476,40.702236691184346 L -74.01383441071602,40.70240570154058 L -74.01420580567216,40.702737196628746 L -74.01426249459008,40.70279900100818 L -74.01431188531662,40.702864332314384 L -74.01435360148132,40.70293269273442 L -74.01438732580279,40.70300356115593 L -74.01441280059338,40.70307639784781 L -74.01442983170597,40.7031506477889 L -74.01439176834201,40.70359878321376 L -74.01425523947049,40.704425472342145 L -74.01425342576857,40.70445756463942 L -74.01425861241297,40.70448944317083 L -74.0142706581445,40.70452022946998 L -74.01428922948978,40.70454907535253 L -74.01437031212745,40.704558037844706 L -74.01451712237395,40.70460567532936 L -74.01466709740222,40.7046472129701 L -74.0147805940292,40.704674113012764 L -74.01489542019324,40.70469751835285 L -74.0149612508353,40.70475979774666 L -74.01516257030207,40.70480509469865 L -74.01527219703543,40.704830036723656 L -74.01539758616069,40.70480014925956 L -74.01565756640278,40.70483308805306 L -74.0156558215711,40.70488263460936 L -74.01587396063667,40.70488211287336 L -74.01621736780068,40.70485302702101 L -74.0162988844507,40.70484641544046 L -74.0163751969576,40.704838485433946 L -74.01652040447128,40.70479971800261 L -74.01662761249746,40.70479943133933 L -74.01668613062351,40.70479933843754 L -74.01668714611372,40.704743942760544 L -74.0167590663391,40.70474228334195 L -74.01684600701813,40.70463488658951 L -74.0171312391557,40.704282535400864 L -74.01757035573978,40.70418388098666 L -74.01779454520292,40.70423489759879 L -74.01785585682929,40.704078847113045 L -74.01775054986881,40.70405488339606 L -74.01779139303451,40.703950913086175 L -74.01781758697959,40.70393792299913 L -74.01783782825967,40.7039626661385 L -74.01780821746956,40.70403196447961 L -74.01791229326221,40.704054497150985 L -74.01794269363943,40.7039731770788 L -74.01795473916582,40.703975785608684 L -74.01784441106739,40.704242040440484 L -74.01844742686781,40.70416230548043 L -74.01866784676683,40.7044352775521 L -74.0186556051199,40.70444100226423 L -74.01751646371467,40.70458062414988 L -74.0174809041726,40.70466726085793 L -74.01753170409474,40.70467087238822 L -74.01754796252615,40.70466365937495 L -74.0175581267377,40.704665721926894 L -74.01757031461892,40.70466262450054 L -74.0175736990255,40.70466778415497 L -74.01756692947858,40.70467138584921 L -74.01759808539691,40.70468427213631 L -74.01763433061075,40.70467870736846 L -74.01767570940247,40.704680679349764 L -74.01768670225856,40.70467379112285 L -74.01771837938914,40.704679698954116 L -74.01773325394241,40.704671333373426 L -74.017749416039,40.704675267937745 L -74.01776556881737,40.704672314957755 L -74.01776687049349,40.704664930662936 L -74.0177836728314,40.704670838090806 L -74.01779789585463,40.70466690218761 L -74.01780630901126,40.704661985472484 L -74.01782893249046,40.704664929945665 L -74.0178399261186,40.70466099554261 L -74.01790198846368,40.70465164811147 L -74.01791039104725,40.70465903307615 L -74.01794142815905,40.70465558354943 L -74.01794401937286,40.70464820843307 L -74.01796922420488,40.704647217598676 L -74.01797892738357,40.704640824085274 L -74.01798926941159,40.70464673182195 L -74.01799832086861,40.70464968541829 L -74.01800802271408,40.704638365599436 L -74.01802418707257,40.704645750346394 L -74.01804292991581,40.704628037612885 L -74.01805392410776,40.70462950543711 L -74.01806509374255,40.70463582599159 L -74.01811302905885,40.704553602333725 L -74.01886289045412,40.70471960666815 L -74.01888747947997,40.70472914280423 L -74.01892572382428,40.70477376307285 L -74.01934155704542,40.706070538204024 L -74.01934254624474,40.70609367252709 L -74.01922242283976,40.70657308822348 L -74.01912275963426,40.70697581484 L -74.01910255488421,40.707000437641476 L -74.01909155018669,40.70700447318457 L -74.01906617140145,40.70701377062146 L -74.01903337953676,40.7070131913787 L -74.01895359463371,40.70699676946549 L -74.01894579167337,40.707017770941356 L -74.01893740557169,40.70703420739927 L -74.01892660377762,40.70704425778591 L -74.01890921570684,40.70706434295384 L -74.01888462028894,40.70708580553678 L -74.01885942940875,40.70710041568378 L -74.01882943775048,40.70711548714264 L -74.0187964493679,40.707127819847564 L -74.01876105701841,40.7071378670277 L -74.01872626987445,40.70714335618892 L -74.01868966870477,40.70714244375395 L -74.01865548009582,40.70714153912519 L -74.01863058372699,40.707139715269285 L -74.01858078403724,40.70712374810277 L -74.01854718475356,40.70710777076681 L -74.01857117399437,40.70707992238862 L -74.01860717601127,40.70709544097515 L -74.01863416957069,40.70710319931139 L -74.01864437101187,40.70710547636301 L -74.01864796262196,40.70708173752739 L -74.01868695379925,40.70708400923754 L -74.01872115249093,40.707081725647235 L -74.0187505462297,40.7070798933099 L -74.01876194037419,40.7070757853643 L -74.01874993323992,40.707049762489504 L -74.01877393087639,40.70704428278754 L -74.01879432757889,40.70703241116973 L -74.01882011848309,40.707015972883084 L -74.0188387043294,40.70699496965154 L -74.01884829724447,40.70698309091278 L -74.01884889814522,40.706970312852796 L -74.01881110035019,40.70696621177411 L -74.0187985148563,40.706982188376216 L -74.0187757159848,40.70699725864645 L -74.01874212416375,40.70700776337878 L -74.0187229298169,40.707006856997815 L -74.0186947319078,40.707010968172476 L -74.0186785330616,40.707018733002506 L -74.01864794474125,40.70701781957841 L -74.01862814488076,40.7070109789675 L -74.01861254498972,40.70699728514591 L -74.01860474411275,40.706989064177236 L -74.01860294181317,40.7069749179781 L -74.01859153053331,40.70695939441579 L -74.01857952850986,40.70694981480898 L -74.01857172609185,40.70693839842646 L -74.01856933125721,40.706920595708404 L -74.01856452356978,40.706906440109236 L -74.01854892759592,40.7069082711817 L -74.01853513269684,40.70691832251665 L -74.01853033686052,40.706950732913086 L -74.01840649088639,40.70725787266106 L -74.01821726389754,40.7077422059691 L -74.01821699384479,40.707751309768256 L -74.01819029259634,40.70782162560734 L -74.01865557049634,40.70792394838068 L -74.01864689079085,40.70794681354695 L -74.01880063068425,40.70798062163742 L -74.0188319588391,40.70799916678915 L -74.01883395951502,40.708002219642694 L -74.01885347694346,40.7080220127867 L -74.01885500911968,40.708047534447395 L -74.01874689830457,40.708480580253614 L -74.01863142468979,40.70894110055674 L -74.01846882134527,40.7095895710087 L -74.01834136609787,40.710106476441005 L -74.01826409180683,40.710408996626796 L -74.01814480361759,40.71088864968636 L -74.01811057723145,40.71102962871711 L -74.01804609687574,40.71134450148706 L -74.01797853231493,40.711756319208064 L -74.01792224257028,40.71203924270072 L -74.01787333356607,40.712315144456504 L -74.01777014254517,40.712834575291694 L -74.01775292639853,40.712848327556046 L -74.01773183836701,40.71284931234666 L -74.01772021563546,40.71284473093362 L -74.01772148946115,40.71278414461047 L -74.01780037822346,40.71234512415863 L -74.01662424359229,40.712157318492814 L -74.01654463812528,40.712456037930956 L -74.01659227582778,40.71254817107682 L -74.0166181765532,40.71264976356907 L -74.01661840078317,40.71275615053226 L -74.01659149520499,40.71286156321725 L -74.01655548827407,40.712929095504485 L -74.01654112105669,40.712955564316864 L -74.01647724204145,40.713029493073954 L -74.01639169419765,40.71309999795082 L -74.01632006627594,40.71340798298083 L -74.01654114686643,40.71344105324495 L -74.01691068695467,40.71349632801026 L -74.01754443334657,40.713611222664234 L -74.0175681104147,40.71352370297541 L -74.01757889256088,40.71344274342803 L -74.01764810653039,40.71320618595175 L -74.01765509447189,40.713161062667005 L -74.01767041664053,40.71306920796509 L -74.0176727084383,40.71306599620085 L -74.01767565424647,40.713063109664226 L -74.01767917611568,40.713060624736165 L -74.01768318085334,40.71305860717058 L -74.01768756248964,40.713057110354455 L -74.01769220508174,40.71305617389518 L -74.01769698578155,40.7130558225725 L -74.01770177808656,40.71305606568278 L -74.01770610826979,40.713056813748096 L -74.01771024205706,40.71305804746944 L -74.01771408595603,40.71305973894421 L -74.01771755303065,40.71306184991692 L -74.01772056486737,40.713064332644514 L -74.0177230533485,40.71306713097605 L -74.01772496219296,40.71307018162271 L -74.017706871923,40.71316928296873 L -74.01761833310015,40.71365432343292 L -74.01753721724683,40.71409754224787 L -74.01740871294436,40.71480679990549 L -74.01738281387826,40.714941433812456 L -74.01738223187856,40.714944461279266 L -74.01732570892393,40.715254913254974 L -74.01726421509508,40.71559268186733 L -74.01712122293621,40.71637179307718 L -74.01698274228573,40.71713064366825 L -74.01686297377272,40.71778695428776 L -74.01671018605823,40.71862417605798 L -74.01669419095941,40.718648843354394 L -74.01665946969614,40.71866602122465 L -74.01662996338204,40.71866536895279 L -74.01594695204274,40.718575548906266 L -74.0159438298421,40.7185892550442 L -74.01566883666857,40.718554488763125 L -74.01567062060747,40.71853774823361 L -74.01555087754507,40.71852193318379 L -74.01500060682399,40.71844923555241 L -74.01499619731605,40.71847300081406 L -74.01498981339553,40.718507346825064 L -74.01498333230722,40.71852379143297 L -74.01497036191952,40.71853585136694 L -74.0149451554935,40.71854353557972 L -74.01470269955757,40.718516154884256 L -74.01321322719193,40.71831571989578 L -74.01306805492318,40.7189221938255 L -74.01307237769205,40.718938618670066 L -74.01303068126435,40.71913145581911 L -74.01270167874436,40.71909177532682 L -74.01255468765247,40.719069863026014 L -74.0124410914674,40.71905767270346 z\" /></g></g></svg>"
      ],
      "text/plain": [
       "<shapely.geometry.multipolygon.MultiPolygon at 0x7fafe1e98550>"
      ]
     },
     "execution_count": 11,
     "metadata": {},
     "output_type": "execute_result"
    }
   ],
   "source": [
    "# Query polygon is lower manhattan. \n",
    "row = nbdata.loc[(nbdata.ntaname.str.contains('lower manhattan',case=False) == True)]\n",
    "# extracts polygon from 'geometry' column\n",
    "lowerMan = row['geometry'].iloc[0] # returns polygon\n",
    "#lowerMan = row['geometry'] \n",
    "lowerMan"
   ]
  },
  {
   "cell_type": "markdown",
   "metadata": {
    "id": "8PZXXZaWzcZH"
   },
   "source": [
    "Perform a brute-force query and compute the time it takes"
   ]
  },
  {
   "cell_type": "code",
   "execution_count": 12,
   "metadata": {
    "colab": {
     "base_uri": "https://localhost:8080/",
     "height": 50
    },
    "id": "FRF6Bz1jqzA7",
    "outputId": "3f0e6d19-64cb-4f01-f9a6-e2b077981381"
   },
   "outputs": [
    {
     "name": "stdout",
     "output_type": "stream",
     "text": [
      "time taken: 4.0536 seconds\n",
      "result size: 3124\n"
     ]
    }
   ],
   "source": [
    "start_time = time.time()\n",
    "result = bruteForceSearch(taxi_pts,lowerMan)\n",
    "end_time = time.time()\n",
    "print(\"time taken: %.4f seconds\" %(end_time - start_time))\n",
    "print(\"result size:\",len(result))"
   ]
  },
  {
   "cell_type": "markdown",
   "metadata": {
    "id": "nLdRW_RrzeMm"
   },
   "source": [
    "Functions to create a Grid index on a set of 2D points \n",
    "![grid](Data/grid-fig.png)\n",
    "![gridarray](Data/grid-array.png)"
   ]
  },
  {
   "cell_type": "code",
   "execution_count": 13,
   "metadata": {
    "id": "drKvoSY2sDNT"
   },
   "outputs": [],
   "source": [
    "# find cell index where value lies in the grid\n",
    "def getIndex(minval, maxval, res, val):\n",
    "    ind = math.floor((val - minval) * res / (maxval - minval))\n",
    "    if ind < 0:\n",
    "        ind = 0\n",
    "    if ind >= res:\n",
    "        ind = res - 1\n",
    "    return ind\n",
    "\n",
    "# pts = list of points\n",
    "# number of xcells, number of ycells (resolution)\n",
    "# populate grid cells: for each point in pts, identify the cell in\n",
    "# which it lies\n",
    "\n",
    "\n",
    "def createGrid(pts,xcells,ycells,xmin,ymin,xmax,ymax):\n",
    "  grid = [[] for _ in range(xcells * ycells)]\n",
    "    \n",
    "  # populate grid cells \n",
    "  for i in range(len(pts)):\n",
    "      # complete\n",
    "      # identify row and column where the point should be placed\n",
    "      colidx = getIndex(xmin, xmax, xcells, pts['lon'][i])\n",
    "      rowidx = getIndex(ymin, ymax, ycells, pts['lat'][i])\n",
    " \n",
    "      # the grid is stored in an array -- need to compute the offset for\n",
    "      # colidx, rowidx starting from 0\n",
    "      # 1 -> 2 -> 3\n",
    "      # 4 -> 5 -> ?\n",
    "      offset = colidx + rowidx * xcells\n",
    "      # add point to the right grid cell\n",
    "      grid[offset].append(i) # lat,long\n",
    "    \n",
    "  return grid\n"
   ]
  },
  {
   "cell_type": "markdown",
   "metadata": {
    "id": "RlGv9UcUzhyU"
   },
   "source": [
    "Create a grid index on the set of taxi pickups"
   ]
  },
  {
   "cell_type": "code",
   "execution_count": 14,
   "metadata": {
    "id": "IWiADEdDvJ8L"
   },
   "outputs": [
    {
     "name": "stdout",
     "output_type": "stream",
     "text": [
      "Duration (createGrid): 2.3532 seconds\n"
     ]
    }
   ],
   "source": [
    "# see https://archive.nyu.edu/handle/2451/34563; nyap_metadata.pdf\n",
    "# West -74.260380 East -73.699206\n",
    "# North 40.917691 South 40.485808\n",
    "# You can also compute the bounds from the data\n",
    "#bounds = (-74.277302,40.494835,-73.674025,40.952497) # bounds for the NYC polygon\n",
    "\n",
    "bounds = nbdata.total_bounds\n",
    "# array([-74.25559136,  40.4961154 , -73.70000906,  40.91553278])\n",
    "\n",
    "# A negative latitude means South of the Equator, \n",
    "# and a negative longitude means West of the Prime Meridian.\n",
    "\n",
    "\n",
    "xcells = 1024\n",
    "ycells = 1024\n",
    "xmin = bounds[0]\n",
    "ymin = bounds[1]\n",
    "xmax = bounds[2]\n",
    "ymax = bounds[3]\n",
    "\n",
    "start_time = time.time()\n",
    "grid = createGrid(taxi_pts, xcells, ycells, xmin, ymin, xmax, ymax)\n",
    "print(\"Duration (createGrid): %.4f seconds\" %(time.time() - start_time))"
   ]
  },
  {
   "cell_type": "markdown",
   "metadata": {
    "id": "DZ5JBpj7zlzG"
   },
   "source": [
    "Function to query for points within a query polygon using the Grid Index\n",
    "![gridarray](Data/grid-search.png)"
   ]
  },
  {
   "cell_type": "code",
   "execution_count": 15,
   "metadata": {
    "id": "VSOdgy6YvsOt"
   },
   "outputs": [],
   "source": [
    "def gridSearch(pts, grid, queryPoly, xsize, ysize, xmin, ymin, xmax, ymax):\n",
    "    # compute the coordinates of the query polygon on the grid\n",
    "    boundxmin = getIndex(xmin, xmax, xsize,queryPoly.bounds[0])\n",
    "    boundxmax = getIndex(xmin, xmax, xsize,queryPoly.bounds[2])\n",
    "    boundymin = getIndex(ymin, ymax, ysize,queryPoly.bounds[1])\n",
    "    boundymax = getIndex(ymin, ymax, ysize,queryPoly.bounds[3])\n",
    "    \n",
    "    result = []\n",
    "    # get the points in each grid cell that intersects with the query polygon,\n",
    "    # add to result each point that lies inside the polygon\n",
    "    for x in range(boundxmin, boundxmax):\n",
    "        for y in range(boundymin, boundymax):\n",
    "            index = y * xsize + x\n",
    "            for i in grid[index]:\n",
    "                pt = Point(pts['lon'][i], pts['lat'][i])\n",
    "                if queryPoly.contains(pt) == True:\n",
    "                    result.append(i)\n",
    "    return result"
   ]
  },
  {
   "cell_type": "markdown",
   "metadata": {
    "id": "TTJPGqQNzrhM"
   },
   "source": [
    "Perform the same query as above, but using the grid index"
   ]
  },
  {
   "cell_type": "code",
   "execution_count": 16,
   "metadata": {
    "id": "I4nK6LxqwPA9"
   },
   "outputs": [
    {
     "name": "stdout",
     "output_type": "stream",
     "text": [
      "Time taken using grid search: 1.3289 seconds\n",
      "3124\n"
     ]
    }
   ],
   "source": [
    "start_time = time.time()\n",
    "# (pts, queryPoly, xsize, ysize, xmin, ymin, xmax, ymax)\n",
    "result = gridSearch(taxi_pts, grid, lowerMan, xcells, ycells, xmin, ymin, xmax, ymax)\n",
    "end_time = time.time()\n",
    "print(\"Time taken using grid search: %.4f seconds\" %(end_time-start_time))\n",
    "print(len(result))\n"
   ]
  },
  {
   "cell_type": "markdown",
   "metadata": {
    "id": "eWOL1-Sm5gmR"
   },
   "source": [
    "Now, you will do some exploration. Create grid indexes of size n x n, where n = {128,256,512,1024,2048,4096}, on the taxi data\n",
    "\n",
    "a. Plot the running time of the query over lower_manhattan against the index resolution\n",
    "b. What can be inferred from the plot?\n",
    "c. Repeat the steps above for different neighborhoods\n",
    "\n",
    "\n"
   ]
  },
  {
   "cell_type": "markdown",
   "metadata": {},
   "source": [
    "# a. plot the running time against index resolution"
   ]
  },
  {
   "cell_type": "code",
   "execution_count": 17,
   "metadata": {},
   "outputs": [
    {
     "name": "stdout",
     "output_type": "stream",
     "text": [
      "[-74.01934255  40.69406908 -73.99476934  40.71913146]\n"
     ]
    }
   ],
   "source": [
    "# get total bounds of lower Manhattan\n",
    "bound = row.total_bounds\n",
    "xmin = bound[0]\n",
    "ymin = bound[1]\n",
    "xmax = bound[2]\n",
    "ymax = bound[3]\n",
    "print(bound)"
   ]
  },
  {
   "cell_type": "code",
   "execution_count": 18,
   "metadata": {},
   "outputs": [
    {
     "name": "stdout",
     "output_type": "stream",
     "text": [
      "Resolution: 128 * 128\n",
      "Time taken using grid search: 1.4506 seconds\n",
      "Total time used: 2.7704 seconds\n",
      "3124\n",
      "\n",
      "Resolution: 256 * 256\n",
      "Time taken using grid search: 1.3532 seconds\n",
      "Total time used: 2.6426 seconds\n",
      "3124\n",
      "\n",
      "Resolution: 512 * 512\n",
      "Time taken using grid search: 1.5216 seconds\n",
      "Total time used: 3.0020 seconds\n",
      "3124\n",
      "\n",
      "Resolution: 1024 * 1024\n",
      "Time taken using grid search: 1.9111 seconds\n",
      "Total time used: 4.1573 seconds\n",
      "3124\n",
      "\n",
      "Resolution: 2048 * 2048\n",
      "Time taken using grid search: 3.1126 seconds\n",
      "Total time used: 6.6056 seconds\n",
      "3124\n",
      "\n",
      "Resolution: 4096 * 4096\n",
      "Time taken using grid search: 9.7855 seconds\n",
      "Total time used: 21.0773 seconds\n",
      "3124\n",
      "\n"
     ]
    }
   ],
   "source": [
    "# print out the time used for each resolution\n",
    "resolution = [128,256,512,1024,2048,4096]\n",
    "total_time_used = []\n",
    "query_time_used = []\n",
    "for n in resolution:\n",
    "    xcells = n\n",
    "    ycells = n\n",
    "    start_time = time.time()\n",
    "    grid = createGrid(taxi_pts, xcells, ycells, xmin, ymin, xmax, ymax)\n",
    "    query_time = time.time()\n",
    "    result = gridSearch(taxi_pts, grid, lowerMan, xcells, ycells, xmin, ymin, xmax, ymax)\n",
    "    end_time = time.time()\n",
    "    print(\"Resolution: \" + str(n) + \" * \" + str(n))\n",
    "    print(\"Time taken using grid search: %.4f seconds\" %(end_time-query_time))\n",
    "    print(\"Total time used: %.4f seconds\" %(end_time-start_time))\n",
    "    query_time_used.append(end_time-query_time)\n",
    "    total_time_used.append(end_time-start_time)\n",
    "    print(len(result))\n",
    "    print()"
   ]
  },
  {
   "cell_type": "code",
   "execution_count": 21,
   "metadata": {},
   "outputs": [
    {
     "data": {
      "image/png": "[encoded data removed]",
      "text/plain": [
       "<Figure size 432x288 with 1 Axes>"
      ]
     },
     "metadata": {
      "needs_background": "light"
     },
     "output_type": "display_data"
    },
    {
     "data": {
      "image/png": "[encoded data removed]",
      "text/plain": [
       "<Figure size 432x288 with 1 Axes>"
      ]
     },
     "metadata": {
      "needs_background": "light"
     },
     "output_type": "display_data"
    }
   ],
   "source": [
    "# create a line plot\n",
    "import matplotlib.pyplot as plt\n",
    "plt.plot(resolution, total_time_used)\n",
    "# set the x and y axis labels\n",
    "plt.xlabel('resolution')\n",
    "plt.ylabel('seconds')\n",
    "\n",
    "# set the title of the plot\n",
    "plt.title('Performance in lower manhattan for total running time')\n",
    "\n",
    "# display the plot\n",
    "plt.show()\n",
    "\n",
    "plt.plot(resolution, query_time_used)\n",
    "# set the x and y axis labels\n",
    "plt.xlabel('resolution')\n",
    "plt.ylabel('seconds')\n",
    "\n",
    "# set the title of the plot\n",
    "plt.title('Performance in lower manhattan for query running time')\n",
    "\n",
    "# display the plot\n",
    "plt.show()\n",
    "\n"
   ]
  },
  {
   "cell_type": "markdown",
   "metadata": {},
   "source": [
    "# b. what can be inferred "
   ]
  },
  {
   "cell_type": "markdown",
   "metadata": {},
   "source": [
    " The total running time descreased when the resolution changed to 256 * 256 from 128 * 128. \n",
    " However, after 256, the total running time kept increasing with larger resolutions.\n",
    " Therefore, there might be a threshold for the resolution such that the closer the resolution\n",
    " is to the threshold, the less time is needed for querying with grid.\n",
    " The resolution equal to the threshold is the most efficient resolution with respect to the total running time. The query time (only grid search) kept exponentially increasing with larger resolution."
   ]
  },
  {
   "cell_type": "markdown",
   "metadata": {},
   "source": [
    "# c. other neighbors"
   ]
  },
  {
   "cell_type": "code",
   "execution_count": 23,
   "metadata": {},
   "outputs": [
    {
     "data": {
      "image/svg+xml": [
       "<svg xmlns=\"http://www.w3.org/2000/svg\" xmlns:xlink=\"http://www.w3.org/1999/xlink\" width=\"100.0\" height=\"100.0\" viewBox=\"-74.00235412361774 40.688576940805774 0.013884480435294222 0.01511470280124172\" preserveAspectRatio=\"xMinYMin meet\"><g transform=\"matrix(1,0,0,-1,0,81.39226858441279)\"><path fill-rule=\"evenodd\" fill=\"#66cc99\" stroke=\"#555555\" stroke-width=\"0.0003022940560248344\" opacity=\"0.6\" d=\"M -73.99236366911195,40.68969012377688 L -73.99436092830197,40.69023948058694 L -73.99623278034552,40.690757775088905 L -73.9977692437901,40.69119469786072 L -73.99803048644992,40.6912537228762 L -73.99845271716661,40.69136998347752 L -73.9991005727256,40.69153697499899 L -73.99920161806008,40.69157183485021 L -73.99928819562555,40.69159395992707 L -73.99936540129042,40.69161307877543 L -73.9995127413904,40.69165145081145 L -73.99991517234571,40.69176723001031 L -74.00019040320167,40.69189644713018 L -74.00062303530208,40.69204149066749 L -74.00068438967641,40.69189781478929 L -74.00077305722617,40.69189575732624 L -74.00179431981029,40.69218477678886 L -74.00169989306643,40.69238276713658 L -74.00174361978983,40.69240674970548 L -74.00154172920259,40.69278596325271 L -74.00127014968672,40.69329606217631 L -74.0009586835096,40.6940690835822 L -74.00078295209646,40.69428651616718 L -74.00070104679108,40.694387856342225 L -74.00026872245725,40.6949658030805 L -73.99988214894346,40.69560519924561 L -73.99946143448636,40.696280026604306 L -73.99941971836027,40.69634693781851 L -73.99941302433207,40.69635767695586 L -73.99952373837482,40.69657482604084 L -73.99947406754572,40.696704134461974 L -73.99929468836194,40.69679512579405 L -73.99918198950829,40.69688518856733 L -73.99899604139195,40.69681227837294 L -73.99893968902622,40.696940940515795 L -73.99887207144386,40.6969237850767 L -73.99876458027705,40.697120733093975 L -73.99887117097656,40.69715757729581 L -73.99837760685772,40.69806329614608 L -73.99802102725111,40.69876173657377 L -73.99799957540132,40.69879768554428 L -73.9974989831,40.699638869321234 L -73.99736745811686,40.69963423492973 L -73.99716054243922,40.69979281264412 L -73.99718148446385,40.699994484968094 L -73.99717584355882,40.70010599196635 L -73.9972446280566,40.700141409897064 L -73.99669768931427,40.70087697691704 L -73.9953844831661,40.7026430100658 L -73.99526015183419,40.702810209538754 L -73.99513826774646,40.702974114722814 L -73.99506438491512,40.7031003136535 L -73.99504592748325,40.70313183979956 L -73.99470923289135,40.702993886624625 L -73.99438297835569,40.70288600192321 L -73.99432513683006,40.70286243588554 L -73.99418494791583,40.70280579883789 L -73.99385200191077,40.70267391033575 L -73.99381754943155,40.702660309303624 L -73.99325388171088,40.70241197186552 L -73.99316590451284,40.702365224411494 L -73.99292459908979,40.702237006799066 L -73.99282864750025,40.70218477794353 L -73.9926120497242,40.70206112900611 L -73.99232767856806,40.701855369912494 L -73.99222013650187,40.70177366302732 L -73.99211067788659,40.70169344371854 L -73.99206681926401,40.70165886040818 L -73.99202772858828,40.70162814159386 L -73.99193644935963,40.70155640963388 L -73.99126294547844,40.70102710263982 L -73.99093201807528,40.70076621604874 L -73.99087453758065,40.70067311729586 L -73.99083516239318,40.70056976226392 L -73.99081766426953,40.700462293322985 L -73.99082272096501,40.70035475430936 L -73.99084157918823,40.700281257089934 L -73.99102958067759,40.699847171120425 L -73.99124033141216,40.69936760206601 L -73.99128668120004,40.69923479114529 L -73.99132676808568,40.69910080492703 L -73.99136054094281,40.69896581442205 L -73.9913879567048,40.698829991921876 L -73.99140898017829,40.69869351065434 L -73.99142358479753,40.69855654494216 L -73.99143175196218,40.69841926959514 L -73.99143347128833,40.69828185981718 L -73.99142289824279,40.697780992822764 L -73.99136812163775,40.69701375273573 L -73.9912841362171,40.69658821028367 L -73.99123105531976,40.69643126046238 L -73.99120620924771,40.69635779867463 L -73.99117495056493,40.696251353107485 L -73.99115271378672,40.69618446745659 L -73.99080803711351,40.69502713429695 L -73.99066605587349,40.69456882398399 L -73.99044474028206,40.693828251433544 L -73.99045286440266,40.6937205847765 L -73.99058794464068,40.69339137896953 L -73.99072896048501,40.693047701447604 L -73.99085041475469,40.69279825064942 L -73.9909718683355,40.692548800887906 L -73.99066626224926,40.69249717706304 L -73.9894723855446,40.69229549434763 L -73.98910541677041,40.692153314024615 L -73.98902944698989,40.69212386202258 L -73.98930270543921,40.69106022599122 L -73.98930768542105,40.69099168846799 L -73.98973690127063,40.69035997268752 L -73.99016617922634,40.689729534334376 L -73.99054474614341,40.689168105798416 L -73.99070669558935,40.68913674461323 L -73.99236366911195,40.68969012377688 z\" /></g></svg>"
      ],
      "text/plain": [
       "<shapely.geometry.polygon.Polygon at 0x7fafe1d96520>"
      ]
     },
     "execution_count": 23,
     "metadata": {},
     "output_type": "execute_result"
    }
   ],
   "source": [
    "# Query polygon is brooklyn county. \n",
    "row = nbdata.loc[(nbdata.ntaname.str.contains('brooklyn',case=False) == True)]\n",
    "# extracts polygon from 'geometry' column\n",
    "brooklyn = row['geometry'].iloc[0] # returns polygon\n",
    "#lowerMan = row['geometry'] \n",
    "brooklyn"
   ]
  },
  {
   "cell_type": "code",
   "execution_count": 24,
   "metadata": {},
   "outputs": [
    {
     "name": "stdout",
     "output_type": "stream",
     "text": [
      "[-74.02459594  40.57675118 -73.83355924  40.70908288]\n"
     ]
    }
   ],
   "source": [
    "# get total bounds of kings\n",
    "bound = row.total_bounds\n",
    "xmin = bound[0]\n",
    "ymin = bound[1]\n",
    "xmax = bound[2]\n",
    "ymax = bound[3]\n",
    "print(bound)"
   ]
  },
  {
   "cell_type": "code",
   "execution_count": 25,
   "metadata": {},
   "outputs": [
    {
     "name": "stdout",
     "output_type": "stream",
     "text": [
      "Resolution: 128 * 128\n",
      "Time taken using grid search: 0.0102 seconds\n",
      "Total time used: 1.2628 seconds\n",
      "155\n",
      "\n",
      "Resolution: 256 * 256\n",
      "Time taken using grid search: 0.0118 seconds\n",
      "Total time used: 1.2363 seconds\n",
      "155\n",
      "\n",
      "Resolution: 512 * 512\n",
      "Time taken using grid search: 0.0127 seconds\n",
      "Total time used: 1.2919 seconds\n",
      "159\n",
      "\n",
      "Resolution: 1024 * 1024\n",
      "Time taken using grid search: 0.0155 seconds\n",
      "Total time used: 1.3982 seconds\n",
      "159\n",
      "\n",
      "Resolution: 2048 * 2048\n",
      "Time taken using grid search: 0.0228 seconds\n",
      "Total time used: 2.3712 seconds\n",
      "160\n",
      "\n",
      "Resolution: 4096 * 4096\n",
      "Time taken using grid search: 0.0450 seconds\n",
      "Total time used: 9.9875 seconds\n",
      "160\n",
      "\n"
     ]
    }
   ],
   "source": [
    "# print out the time used for each resolution\n",
    "resolution = [128,256,512,1024,2048,4096]\n",
    "total_time_used = []\n",
    "query_time_used = []\n",
    "for n in resolution:\n",
    "    xcells = n\n",
    "    ycells = n\n",
    "    start_time = time.time()\n",
    "    grid = createGrid(taxi_pts, xcells, ycells, xmin, ymin, xmax, ymax)\n",
    "    query_time = time.time()\n",
    "    result = gridSearch(taxi_pts, grid, brooklyn, xcells, ycells, xmin, ymin, xmax, ymax)\n",
    "    end_time = time.time()\n",
    "    print(\"Resolution: \" + str(n) + \" * \" + str(n))\n",
    "    print(\"Time taken using grid search: %.4f seconds\" %(end_time-query_time))\n",
    "    print(\"Total time used: %.4f seconds\" %(end_time-start_time))\n",
    "    query_time_used.append(end_time-query_time)\n",
    "    total_time_used.append(end_time-start_time)\n",
    "    print(len(result))\n",
    "    print()"
   ]
  },
  {
   "cell_type": "code",
   "execution_count": 28,
   "metadata": {},
   "outputs": [
    {
     "data": {
      "image/png": "[encoded data removed]",
      "text/plain": [
       "<Figure size 432x288 with 1 Axes>"
      ]
     },
     "metadata": {
      "needs_background": "light"
     },
     "output_type": "display_data"
    },
    {
     "data": {
      "image/png": "[encoded data removed]",
      "text/plain": [
       "<Figure size 432x288 with 1 Axes>"
      ]
     },
     "metadata": {
      "needs_background": "light"
     },
     "output_type": "display_data"
    }
   ],
   "source": [
    "# create a line plot\n",
    "import matplotlib.pyplot as plt\n",
    "plt.plot(resolution, total_time_used)\n",
    "# set the x and y axis labels\n",
    "plt.xlabel('resolution')\n",
    "plt.ylabel('seconds')\n",
    "\n",
    "# set the title of the plot\n",
    "plt.title('Performance in brooklyn for total running time')\n",
    "\n",
    "# display the plot\n",
    "plt.show()\n",
    "\n",
    "plt.plot(resolution, query_time_used)\n",
    "# set the x and y axis labels\n",
    "plt.xlabel('resolution')\n",
    "plt.ylabel('seconds')\n",
    "\n",
    "# set the title of the plot\n",
    "plt.title('Performance in brooklyn for query running time')\n",
    "\n",
    "# display the plot\n",
    "plt.show()"
   ]
  },
  {
   "cell_type": "code",
   "execution_count": 29,
   "metadata": {},
   "outputs": [
    {
     "data": {
      "image/svg+xml": [
       "<svg xmlns=\"http://www.w3.org/2000/svg\" xmlns:xlink=\"http://www.w3.org/1999/xlink\" width=\"100.0\" height=\"100.0\" viewBox=\"-74.0070273293941 40.70705493622281 0.02409589704343773 0.017973954091814903\" preserveAspectRatio=\"xMinYMin meet\"><g transform=\"matrix(1,0,0,-1,0,81.43208382653744)\"><path fill-rule=\"evenodd\" fill=\"#66cc99\" stroke=\"#555555\" stroke-width=\"0.0004819179408687546\" opacity=\"0.6\" d=\"M -73.9838238729819,40.72147287206689 L -73.98386422812338,40.72139637914206 L -73.98447731709082,40.72023423864922 L -73.9850734218859,40.71908329385832 L -73.9859109225595,40.71933897328651 L -73.98675136662507,40.71959284637346 L -73.98736015269176,40.71836979677019 L -73.98739393020857,40.718303522834795 L -73.98743405693898,40.718213080149354 L -73.98751208052434,40.71807218583022 L -73.9878793566525,40.717408972530606 L -73.98791645891995,40.717335573865974 L -73.98795181469515,40.717265627902144 L -73.98836626251676,40.71644570203684 L -73.98915463750744,40.716708646771586 L -73.98975418109097,40.7155523483405 L -73.99020235909236,40.714664429887705 L -73.99022155650934,40.71457875640871 L -73.99022750964441,40.71449166904747 L -73.99022012537824,40.71440493989791 L -73.99075515306706,40.71455407251626 L -73.99122551061822,40.71448664355401 L -73.9921348651516,40.71441980186589 L -73.99256242170644,40.71438807722866 L -73.99246827740596,40.71385682477336 L -73.99245563619272,40.71376288237606 L -73.99239156983417,40.71319081048828 L -73.99226747490003,40.712467557498364 L -73.99225369295755,40.712354325929326 L -73.99224319404433,40.71226805502936 L -73.99221856009493,40.712065655147 L -73.99220577798486,40.71196063530383 L -73.99217242452318,40.711776083472806 L -73.99216250400265,40.7117061627296 L -73.99215484478468,40.71165655612659 L -73.99213550303163,40.71157561464459 L -73.99202215963379,40.711101300395605 L -73.99200166163938,40.71101552280306 L -73.99197674892305,40.710911265664514 L -73.99191690575245,40.71059750550517 L -73.99182082360922,40.71006430880429 L -73.99177948584878,40.70982655569248 L -73.99183448310838,40.709819327632474 L -73.99190950915941,40.7098069441386 L -73.99201352594469,40.70978209156365 L -73.99204811967951,40.7097761723806 L -73.99200595943779,40.70969647869485 L -73.99197509052001,40.709645535262176 L -73.99194346565629,40.70958905298918 L -73.99192047543033,40.709554293873936 L -73.99190544366458,40.709525396079655 L -73.99203926968352,40.70951691916273 L -73.99209131635973,40.70950822240118 L -73.9921486897015,40.70949860910409 L -73.99236116139905,40.709464369314006 L -73.99284846748647,40.70938187763873 L -73.99374012862224,40.709246120937905 L -73.99400820097996,40.70923748042154 L -73.99414063200345,40.70923326739993 L -73.99437823543936,40.70919263919891 L -73.99457899963724,40.70913097291005 L -73.99517577369836,40.70903429330772 L -73.99580385587521,40.70894601441006 L -73.9960189839576,40.70891622435003 L -73.99666400930542,40.708826905020274 L -73.99728287195578,40.7087316198429 L -73.99808351186998,40.70850961586971 L -73.99828602254547,40.70842993146758 L -73.99852758585311,40.70833152790828 L -73.99856114554572,40.70831528273096 L -73.99872197955064,40.708237452896164 L -73.99875396570859,40.70822365102718 L -73.99880846276645,40.70820013449007 L -73.99882158420985,40.70817548117489 L -73.99888130797835,40.70813663391978 L -73.99898340963244,40.708092653316136 L -73.99905276738552,40.70803254536376 L -73.99913434918952,40.707982396945916 L -73.99919451042807,40.70794737685405 L -73.99928731116864,40.708016603168765 L -73.99936195582275,40.708072286588326 L -73.99939955007633,40.708100337857566 L -73.9994428130838,40.70813655675656 L -73.9995627336694,40.70823648314756 L -73.99981193792472,40.70844261498327 L -73.99992936291538,40.708536817589874 L -74.00000765523282,40.70859961998637 L -74.00012359123079,40.708684519280695 L -74.00019103138898,40.70873391286471 L -74.00026566682726,40.70879294941706 L -74.00055004887021,40.70901791729949 L -74.00134439781638,40.70964629295892 L -74.0014714023208,40.709746554323246 L -74.00155908170447,40.70981710784749 L -74.00173689006432,40.709960170534764 L -74.00267634471687,40.71071582686025 L -74.0027677275943,40.71078930254757 L -74.00328686348286,40.711207248830426 L -74.00333184733802,40.711242082933545 L -74.00353144192037,40.71139214565565 L -74.00364556635014,40.7114129199685 L -74.00373068851268,40.71146298583823 L -74.00381845953001,40.7115103294823 L -74.00390872915273,40.71155486985336 L -74.00400134315402,40.71159653056747 L -74.00409614270096,40.711635240407034 L -74.00419296550659,40.711670933103456 L -74.00452616754647,40.71178625594634 L -74.00459760403179,40.71181294657954 L -74.00466676033682,40.71184291345221 L -74.00473337727364,40.71187604425413 L -74.00490674637815,40.71197227923591 L -74.0049711447722,40.7120043523387 L -74.00503924397407,40.712031642728554 L -74.00511043245031,40.712053905062895 L -74.00518407076275,40.7120709396348 L -74.00525261135324,40.712079190977256 L -74.00532187480752,40.712082416985986 L -74.00539122687442,40.71208058807595 L -74.00546003126505,40.7120737210593 L -74.00594294507674,40.71195568058295 L -74.0060354662926,40.7119061888015 L -74.00613488876287,40.7119481527406 L -74.0060691752241,40.71200842941612 L -74.00574044602703,40.71208875703638 L -74.00558932954131,40.71217005375554 L -74.00543047873788,40.71220369524704 L -74.00527561892599,40.71224944049536 L -74.00512712618755,40.71230677376254 L -74.00498716590474,40.71237485717678 L -74.00485768021683,40.71245254111694 L -74.00470652283596,40.712574015170304 L -74.00429113759458,40.712907825695936 L -74.00421405235407,40.712980743144826 L -74.00405900671646,40.71313479025536 L -74.0036028033123,40.71364543042642 L -74.00321983144359,40.714036237059645 L -74.00272286179327,40.71438970926267 L -74.00245393220679,40.71478982036131 L -74.002114557049,40.71515891016287 L -74.00168306201286,40.715744122761635 L -74.00081842581548,40.71692970784939 L -74.0002744362725,40.71761940210768 L -73.9999562073255,40.71801709508717 L -73.99931241700145,40.71755024177741 L -73.99858925435927,40.717099511537086 L -73.99776285925765,40.71681392862409 L -73.99698375215492,40.716540543172044 L -73.99605872744372,40.716231640713495 L -73.99580912349244,40.71664465920539 L -73.99542875746643,40.71727924304783 L -73.99480779021304,40.7184574268529 L -73.99439866324684,40.71945710892785 L -73.99410818147732,40.72015588760438 L -73.9940726322124,40.72024349190811 L -73.9940415520236,40.720320979823114 L -73.99401883810849,40.72037780557674 L -73.99379593869142,40.72093753746572 L -73.99352731235682,40.72163326237099 L -73.99336181506884,40.7220800178354 L -73.99333917242915,40.72214114117697 L -73.99326016062814,40.722354426277874 L -73.9930919022703,40.722820085369115 L -73.99263254954289,40.72405686565496 L -73.99260322198438,40.724136449683385 L -73.99253198926885,40.72411456659962 L -73.9921986126603,40.724012609684024 L -73.99135472668758,40.7237546195873 L -73.99127307096393,40.723729813441956 L -73.99102410395398,40.72364943274036 L -73.99027361581862,40.723426018795685 L -73.98939218103773,40.723174058494976 L -73.98875683194557,40.72297036611106 L -73.98863862848758,40.722933720766264 L -73.98854361419585,40.72290361785347 L -73.98786491520963,40.722697088701885 L -73.98713584830247,40.72246981162321 L -73.98628573956016,40.72224192000869 L -73.98551686110525,40.72198522495759 L -73.98467780163293,40.72173060534035 L -73.9838238729819,40.72147287206689 z\" /></g></svg>"
      ],
      "text/plain": [
       "<shapely.geometry.polygon.Polygon at 0x7faf0d7b4490>"
      ]
     },
     "execution_count": 29,
     "metadata": {},
     "output_type": "execute_result"
    }
   ],
   "source": [
    "# Query polygon is Chinatown. \n",
    "row = nbdata.loc[(nbdata.ntaname.str.contains('Chinatown',case=False) == True)]\n",
    "# extracts polygon from 'geometry' column\n",
    "Chinatown = row['geometry'].iloc[0] # returns polygon\n",
    "#lowerMan = row['geometry'] \n",
    "Chinatown"
   ]
  },
  {
   "cell_type": "code",
   "execution_count": 30,
   "metadata": {},
   "outputs": [
    {
     "name": "stdout",
     "output_type": "stream",
     "text": [
      "[-74.00613489  40.70794738 -73.98382387  40.72413645]\n"
     ]
    }
   ],
   "source": [
    "# get total bounds of kings\n",
    "bound = row.total_bounds\n",
    "xmin = bound[0]\n",
    "ymin = bound[1]\n",
    "xmax = bound[2]\n",
    "ymax = bound[3]\n",
    "print(bound)"
   ]
  },
  {
   "cell_type": "code",
   "execution_count": 31,
   "metadata": {},
   "outputs": [
    {
     "name": "stdout",
     "output_type": "stream",
     "text": [
      "Resolution: 128 * 128\n",
      "Time taken using grid search: 0.3951 seconds\n",
      "Total time used: 2.2810 seconds\n",
      "1774\n",
      "\n",
      "Resolution: 256 * 256\n",
      "Time taken using grid search: 0.4217 seconds\n",
      "Total time used: 1.6646 seconds\n",
      "1779\n",
      "\n",
      "Resolution: 512 * 512\n",
      "Time taken using grid search: 0.4636 seconds\n",
      "Total time used: 1.7719 seconds\n",
      "1781\n",
      "\n",
      "Resolution: 1024 * 1024\n",
      "Time taken using grid search: 0.7885 seconds\n",
      "Total time used: 2.2641 seconds\n",
      "1781\n",
      "\n",
      "Resolution: 2048 * 2048\n",
      "Time taken using grid search: 1.8255 seconds\n",
      "Total time used: 5.8309 seconds\n",
      "1781\n",
      "\n",
      "Resolution: 4096 * 4096\n",
      "Time taken using grid search: 7.2946 seconds\n",
      "Total time used: 17.8089 seconds\n",
      "1781\n",
      "\n"
     ]
    }
   ],
   "source": [
    "# print out the time used for each resolution\n",
    "resolution = [128,256,512,1024,2048,4096]\n",
    "total_time_used = []\n",
    "query_time_used = []\n",
    "for n in resolution:\n",
    "    xcells = n\n",
    "    ycells = n\n",
    "    start_time = time.time()\n",
    "    grid = createGrid(taxi_pts, xcells, ycells, xmin, ymin, xmax, ymax)\n",
    "    query_time = time.time()\n",
    "    result = gridSearch(taxi_pts, grid, Chinatown, xcells, ycells, xmin, ymin, xmax, ymax)\n",
    "    end_time = time.time()\n",
    "    print(\"Resolution: \" + str(n) + \" * \" + str(n))\n",
    "    print(\"Time taken using grid search: %.4f seconds\" %(end_time-query_time))\n",
    "    print(\"Total time used: %.4f seconds\" %(end_time-start_time))\n",
    "    query_time_used.append(end_time-query_time)\n",
    "    total_time_used.append(end_time-start_time)\n",
    "    print(len(result))\n",
    "    print()"
   ]
  },
  {
   "cell_type": "code",
   "execution_count": 32,
   "metadata": {},
   "outputs": [
    {
     "data": {
      "image/png": "[encoded data removed]",
      "text/plain": [
       "<Figure size 432x288 with 1 Axes>"
      ]
     },
     "metadata": {
      "needs_background": "light"
     },
     "output_type": "display_data"
    },
    {
     "data": {
      "image/png": "[encoded data removed]",
      "text/plain": [
       "<Figure size 432x288 with 1 Axes>"
      ]
     },
     "metadata": {
      "needs_background": "light"
     },
     "output_type": "display_data"
    }
   ],
   "source": [
    "# create a line plot\n",
    "import matplotlib.pyplot as plt\n",
    "plt.plot(resolution, total_time_used)\n",
    "# set the x and y axis labels\n",
    "plt.xlabel('resolution')\n",
    "plt.ylabel('seconds')\n",
    "\n",
    "# set the title of the plot\n",
    "plt.title('Performance in chinatown for total running time')\n",
    "\n",
    "# display the plot\n",
    "plt.show()\n",
    "\n",
    "plt.plot(resolution, query_time_used)\n",
    "# set the x and y axis labels\n",
    "plt.xlabel('resolution')\n",
    "plt.ylabel('seconds')\n",
    "\n",
    "# set the title of the plot\n",
    "plt.title('Performance in chinatown for query running time')\n",
    "\n",
    "# display the plot\n",
    "plt.show()"
   ]
  },
  {
   "cell_type": "code",
   "execution_count": 33,
   "metadata": {},
   "outputs": [
    {
     "name": "stdout",
     "output_type": "stream",
     "text": [
      "Windsor Terrace\n",
      "Prospect Heights\n",
      "Flatbush\n",
      "Hunts Point\n",
      "Canarsie\n",
      "Flatlands\n",
      "Sunset Park West\n",
      "Glen Oaks-Floral Park-New Hyde Park\n",
      "Douglas Manor-Douglaston-Little Neck\n",
      "Briarwood-Jamaica Hills\n",
      "Kew Gardens\n",
      "Soundview-Castle Hill-Clason Point-Harding Park\n",
      "Jackson Heights\n",
      "Park Slope-Gowanus\n",
      "Charleston-Richmond Valley-Tottenville\n",
      "Rossville-Woodrow\n",
      "Cypress Hills-City Line\n",
      "Central Harlem North-Polo Grounds\n",
      "East New York\n",
      "Yorkville\n",
      "Auburndale\n",
      "East Flushing\n",
      "Morrisania-Melrose\n",
      "Bay Ridge\n",
      "Melrose South-Mott Haven North\n",
      "Mott Haven-Port Morris\n",
      "Belmont\n",
      "Lower East Side\n",
      "Claremont-Bathgate\n",
      "Crotona Park East\n",
      "Gramercy\n",
      "Marble Hill-Inwood\n",
      "East Village\n",
      "SoHo-TriBeCa-Civic Center-Little Italy\n",
      "University Heights-Morris Heights\n",
      "Hudson Yards-Chelsea-Flatiron-Union Square\n",
      "West Village\n",
      "Upper West Side\n",
      "Norwood\n",
      "Bedford Park-Fordham North\n",
      "Fordham South\n",
      "Mount Hope\n",
      "Eastchester-Edenwald-Baychester\n",
      "Co-op City\n",
      "East Tremont\n",
      "Sheepshead Bay-Gerritsen Beach-Manhattan Beach\n",
      "Brighton Beach\n",
      "Breezy Point-Belle Harbor-Rockaway Park-Broad Channel\n",
      "Hammels-Arverne-Edgemere\n",
      "Grymes Hill-Clifton-Fox Hills\n",
      "Springfield Gardens South-Brookville\n",
      "Rosedale\n",
      "Stapleton-Rosebank\n",
      "Oakwood-Oakwood Beach\n",
      "New Dorp-Midland Beach\n",
      "East Williamsburg\n",
      "Grasmere-Arrochar-Ft. Wadsworth\n",
      "Brooklyn Heights-Cobble Hill\n",
      "Old Town-Dongan Hills-South Beach\n",
      "Far Rockaway-Bayswater\n",
      "Oakland Gardens\n",
      "Astoria\n",
      "DUMBO-Vinegar Hill-Downtown Brooklyn-Boerum Hill\n",
      "Georgetown-Marine Park-Bergen Beach-Mill Basin\n",
      "park-cemetery-etc-Brooklyn\n",
      "Pelham Parkway\n",
      "park-cemetery-etc-Bronx\n",
      "Stuyvesant Town-Cooper Village\n",
      "Van Nest-Morris Park-Westchester Square\n",
      "Carroll Gardens-Columbia Street-Red Hook\n",
      "Greenpoint\n",
      "Murray Hill-Kips Bay\n",
      "Hamilton Heights\n",
      "Bayside-Bayside Hills\n",
      "Morningside Heights\n",
      "East Concourse-Concourse Village\n",
      "West Concourse\n",
      "Washington Heights South\n",
      "Washington Heights North\n",
      "East Harlem South\n",
      "Turtle Bay-East Midtown\n",
      "Hunters Point-Sunnyside-West Maspeth\n",
      "Lenox Hill-Roosevelt Island\n",
      "Old Astoria\n",
      "park-cemetery-etc-Manhattan\n",
      "Steinway\n",
      "Westerleigh\n",
      "New Brighton-Silver Lake\n",
      "Airport\n",
      "park-cemetery-etc-Queens\n"
     ]
    }
   ],
   "source": [
    "for i in range(100, 190):\n",
    "    print(nbdata.ntaname[i])"
   ]
  },
  {
   "cell_type": "code",
   "execution_count": 34,
   "metadata": {},
   "outputs": [
    {
     "data": {
      "image/svg+xml": [
       "<svg xmlns=\"http://www.w3.org/2000/svg\" xmlns:xlink=\"http://www.w3.org/1999/xlink\" width=\"100.0\" height=\"100.0\" viewBox=\"-73.9970902331891 40.766542571420494 0.022938694838856577 0.01608669083903891\" preserveAspectRatio=\"xMinYMin meet\"><g transform=\"matrix(1,0,0,-1,0,81.54917183368002)\"><path fill-rule=\"evenodd\" fill=\"#66cc99\" stroke=\"#555555\" stroke-width=\"0.00045877389677713155\" opacity=\"0.6\" d=\"M -73.97500111964057,40.777527779916696 L -73.97545932499851,40.77689872272685 L -73.97595517295005,40.77621975512873 L -73.97645777399887,40.775532537251955 L -73.97691168226288,40.77490912402699 L -73.97737084993052,40.77428100771643 L -73.97782639298838,40.77365619242425 L -73.97828220102313,40.77303187873812 L -73.97872246726017,40.772418898787635 L -73.97919214511967,40.771781266001334 L -73.97965233402236,40.77115532754258 L -73.98011181561736,40.77052836867839 L -73.98056370666846,40.76990532456597 L -73.98102290050332,40.76927283355969 L -73.98167943639396,40.76839013093615 L -73.98163149486203,40.76836792834464 L -73.98158722660872,40.76834168448253 L -73.98154721809718,40.7683117470296 L -73.98151199978385,40.76827851231664 L -73.98148203790747,40.76824242092693 L -73.98145772940201,40.768203951008715 L -73.98144166622203,40.768164057964384 L -73.98143131855309,40.76812308590027 L -73.98142680556109,40.7680815067012 L -73.9814281792122,40.768039799243645 L -73.98143542311223,40.767998443512596 L -73.98144845447355,40.767957916136496 L -73.98146712319944,40.76791868388192 L -73.98149121426698,40.767881198598296 L -73.98152818421283,40.76784223925384 L -73.9815712094167,40.76780705641773 L -73.98161962886348,40.76777619061202 L -73.98167269859994,40.767750116176444 L -73.9817296033383,40.7677292335387 L -73.98178946884192,40.767713863521024 L -73.98184374452958,40.767707205533696 L -73.98189866376126,40.76770527977931 L -73.98195351509257,40.76770811120481 L -73.98200758782409,40.767715662745005 L -73.98206018167572,40.76772783692725 L -73.98211061533112,40.767744476043745 L -73.98236545039548,40.76739215271082 L -73.98521720261179,40.7685946304578 L -73.98806289482472,40.76979080028786 L -73.99059644615326,40.770854810282295 L -73.99091307420794,40.770987759035414 L -73.99365606122396,40.77214596290357 L -73.99378189746179,40.77219909144759 L -73.99387445126065,40.772238168390835 L -73.9935026218083,40.77275163310054 L -73.99359086402816,40.7727900802966 L -73.99372534708543,40.77286419949048 L -73.99378736999815,40.77290384626271 L -73.99383108070874,40.772931787850574 L -73.99388754436347,40.772955744666426 L -73.993891252437,40.772955195379296 L -73.99396258551452,40.7729446544115 L -73.99401262480514,40.77288284612933 L -73.99412205808243,40.77292405852344 L -73.99413665258861,40.77290187017425 L -73.99430134239114,40.77297002866392 L -73.99428153513446,40.77299380156674 L -73.99437655275094,40.773039551603944 L -73.99431863468708,40.77312144077279 L -73.99429402982376,40.773156244494395 L -73.99502327586075,40.77348119657617 L -73.99507108730855,40.773414138665785 L -73.99508939189286,40.77338847503913 L -73.99501396371679,40.77335803492436 L -73.99505028403809,40.77329715318983 L -73.99624065189877,40.77378979190024 L -73.9961958361488,40.77385235618403 L -73.99610846748622,40.77381631651761 L -73.99610778076885,40.77381737760104 L -73.99606316808179,40.773886886610065 L -73.99612697773726,40.773913354620824 L -73.99612850416672,40.77391398540569 L -73.9961263614022,40.77391671415676 L -73.99609880736972,40.773951805801666 L -73.99611835102776,40.773960324463935 L -73.99617945865157,40.773986954854045 L -73.99609524522619,40.774086186940195 L -73.99605125275335,40.774068895803204 L -73.9955722651611,40.773870731896864 L -73.9939369418221,40.77317951096689 L -73.9938629532914,40.773269529072266 L -73.99382334505351,40.773381766882665 L -73.99376791399212,40.77348399400519 L -73.99369930927804,40.77356215215551 L -73.99362279455217,40.77363229021233 L -73.99352782764129,40.773714446971155 L -73.99344341917197,40.77377054967829 L -73.99341175671512,40.77380261292649 L -73.99335894150742,40.77392688065721 L -73.99262266386535,40.7749740565395 L -73.99257784210499,40.77495601635934 L -73.99252774395154,40.775002110439836 L -73.99246974581528,40.775024160054365 L -73.99240383653078,40.775018140390635 L -73.99226708903541,40.77511603385854 L -73.99205908493715,40.77549759819226 L -73.99212537239492,40.77550907505336 L -73.99222686713581,40.775482211528676 L -73.9923293466088,40.77546890095852 L -73.99236175680113,40.77550189976663 L -73.99238604296033,40.77555717992205 L -73.99208768471263,40.77598397132394 L -73.99201877991065,40.776073341237975 L -73.99142953190223,40.776879560042715 L -73.9909271741496,40.77756687926554 L -73.99073041339486,40.77756054973997 L -73.99039616003651,40.777585065679055 L -73.99010126531547,40.77799645751655 L -73.98964887292813,40.77862756051156 L -73.9892009588643,40.779252398651565 L -73.9892006808993,40.779252786279244 L -73.98917577843811,40.7792875235132 L -73.98908519478599,40.77940759715944 L -73.98886861673887,40.77969292291135 L -73.98887187449985,40.779713737750434 L -73.98921902221942,40.77969789520933 L -73.98927785904425,40.77972343927106 L -73.98940905351891,40.77973770697448 L -73.98949861492703,40.779725044389764 L -73.9895964933883,40.7796981461808 L -73.98967981290257,40.779677568155456 L -73.98975270293793,40.77967124421157 L -73.9898422478065,40.779680752670664 L -73.98994430161032,40.77969659276855 L -73.99004010212055,40.77970767719565 L -73.99013797752482,40.779699769704784 L -73.99022336845648,40.779682361211215 L -73.99033584033221,40.779661794395 L -73.99043059869709,40.77966497255293 L -73.9905076454939,40.779668139123814 L -73.99062219939678,40.77967606441174 L -73.9907450688443,40.77967132818401 L -73.99087211428225,40.77964600714132 L -73.99096167222436,40.77963968375177 L -73.9910574728296,40.77965235212317 L -73.99115742949704,40.77966977560645 L -73.99124281740445,40.77967136708451 L -73.99125531828973,40.77965078251649 L -73.99129488645896,40.77963020920883 L -73.99132196698874,40.779631796041336 L -73.99135945556947,40.779585882834816 L -73.99155105922745,40.779574820934776 L -73.99141982519842,40.779755280789566 L -73.98888614411696,40.77987889853273 L -73.98893965604512,40.77995617844035 L -73.98892610353083,40.78005929201363 L -73.98891168026469,40.780096037146635 L -73.98891166067366,40.78012236626762 L -73.98891926146834,40.78022609484625 L -73.98838105020263,40.78098107404582 L -73.98823241384697,40.781233144215555 L -73.98821042083155,40.781225483044636 L -73.988144181354,40.78136567182977 L -73.98813788174469,40.78137928177659 L -73.98812746036462,40.78140179644217 L -73.98799363156394,40.781342817850195 L -73.98746219857017,40.781108610098194 L -73.98741432690463,40.78108751159768 L -73.98736363983177,40.78106280511046 L -73.98730772788198,40.781041303287736 L -73.98707137465644,40.780906381592274 L -73.98654378885689,40.780657980791 L -73.98567936117642,40.78031263333494 L -73.98536952677374,40.781078372362586 L -73.98507184345016,40.78177968096921 L -73.9835260146705,40.7811300110227 L -73.9823419491434,40.780630434423344 L -73.98186936677027,40.780430901673434 L -73.98162787427154,40.78032893547245 L -73.98151911281197,40.780281757516114 L -73.9814094866995,40.78023541861932 L -73.98067365411009,40.77992518248742 L -73.97944815885467,40.7794099098326 L -73.97926136585593,40.779331367608336 L -73.97783301638991,40.778730722534135 L -73.97500111964057,40.777527779916696 z\" /></g></svg>"
      ],
      "text/plain": [
       "<shapely.geometry.polygon.Polygon at 0x7faf1c54fbe0>"
      ]
     },
     "execution_count": 34,
     "metadata": {},
     "output_type": "execute_result"
    }
   ],
   "source": [
    "# Query polygon is . \n",
    "row = nbdata.loc[(nbdata.ntaname.str.contains('Lincoln Square',case=False) == True)]\n",
    "# extracts polygon from 'geometry' column\n",
    "#manhattan = row['geometry'].iloc[0] # returns polygon\n",
    "LinconSq = row['geometry'].iloc[0]\n",
    "LinconSq"
   ]
  },
  {
   "cell_type": "code",
   "execution_count": 35,
   "metadata": {},
   "outputs": [
    {
     "name": "stdout",
     "output_type": "stream",
     "text": [
      "[-73.99624065  40.76739215 -73.97500112  40.78177968]\n"
     ]
    }
   ],
   "source": [
    "# get total bounds of kings\n",
    "bound = row.total_bounds\n",
    "xmin = bound[0]\n",
    "ymin = bound[1]\n",
    "xmax = bound[2]\n",
    "ymax = bound[3]\n",
    "print(bound)"
   ]
  },
  {
   "cell_type": "code",
   "execution_count": 36,
   "metadata": {},
   "outputs": [
    {
     "name": "stdout",
     "output_type": "stream",
     "text": [
      "Resolution: 128 * 128\n",
      "Time taken using grid search: 1.8250 seconds\n",
      "Total time used: 3.7169 seconds\n",
      "3630\n",
      "\n",
      "Resolution: 256 * 256\n",
      "Time taken using grid search: 1.8589 seconds\n",
      "Total time used: 3.1000 seconds\n",
      "3638\n",
      "\n",
      "Resolution: 512 * 512\n",
      "Time taken using grid search: 1.9384 seconds\n",
      "Total time used: 3.1958 seconds\n",
      "3640\n",
      "\n",
      "Resolution: 1024 * 1024\n",
      "Time taken using grid search: 2.2945 seconds\n",
      "Total time used: 3.6620 seconds\n",
      "3640\n",
      "\n",
      "Resolution: 2048 * 2048\n",
      "Time taken using grid search: 3.3183 seconds\n",
      "Total time used: 6.0024 seconds\n",
      "3640\n",
      "\n",
      "Resolution: 4096 * 4096\n",
      "Time taken using grid search: 8.9652 seconds\n",
      "Total time used: 19.5065 seconds\n",
      "3640\n",
      "\n"
     ]
    }
   ],
   "source": [
    "# print out the time used for each resolution\n",
    "resolution = [128,256,512,1024,2048,4096]\n",
    "total_time_used = []\n",
    "query_time_used = []\n",
    "for n in resolution:\n",
    "    xcells = n\n",
    "    ycells = n\n",
    "    start_time = time.time()\n",
    "    grid = createGrid(taxi_pts, xcells, ycells, xmin, ymin, xmax, ymax)\n",
    "    query_time = time.time()\n",
    "    result = gridSearch(taxi_pts, grid, LinconSq, xcells, ycells, xmin, ymin, xmax, ymax)\n",
    "    end_time = time.time()\n",
    "    print(\"Resolution: \" + str(n) + \" * \" + str(n))\n",
    "    print(\"Time taken using grid search: %.4f seconds\" %(end_time-query_time))\n",
    "    print(\"Total time used: %.4f seconds\" %(end_time-start_time))\n",
    "    query_time_used.append(end_time-query_time)\n",
    "    total_time_used.append(end_time-start_time)\n",
    "    print(len(result))\n",
    "    print()"
   ]
  },
  {
   "cell_type": "code",
   "execution_count": 37,
   "metadata": {},
   "outputs": [
    {
     "data": {
      "image/png": "[encoded data removed]",
      "text/plain": [
       "<Figure size 432x288 with 1 Axes>"
      ]
     },
     "metadata": {
      "needs_background": "light"
     },
     "output_type": "display_data"
    },
    {
     "data": {
      "image/png": "[encoded data removed]",
      "text/plain": [
       "<Figure size 432x288 with 1 Axes>"
      ]
     },
     "metadata": {
      "needs_background": "light"
     },
     "output_type": "display_data"
    }
   ],
   "source": [
    "# create a line plot\n",
    "import matplotlib.pyplot as plt\n",
    "plt.plot(resolution, total_time_used)\n",
    "# set the x and y axis labels\n",
    "plt.xlabel('resolution')\n",
    "plt.ylabel('seconds')\n",
    "\n",
    "# set the title of the plot\n",
    "plt.title('Performance in lincon square for total running time')\n",
    "\n",
    "# display the plot\n",
    "plt.show()\n",
    "\n",
    "plt.plot(resolution, query_time_used)\n",
    "# set the x and y axis labels\n",
    "plt.xlabel('resolution')\n",
    "plt.ylabel('seconds')\n",
    "\n",
    "# set the title of the plot\n",
    "plt.title('Performance in lincon square for query running time')\n",
    "\n",
    "# display the plot\n",
    "plt.show()"
   ]
  },
  {
   "cell_type": "code",
   "execution_count": null,
   "metadata": {},
   "outputs": [],
   "source": []
  }
 ],
 "metadata": {
  "colab": {
   "provenance": []
  },
  "kernelspec": {
   "display_name": "Python 3 (ipykernel)",
   "language": "python",
   "name": "python3"
  },
  "language_info": {
   "codemirror_mode": {
    "name": "ipython",
    "version": 3
   },
   "file_extension": ".py",
   "mimetype": "text/x-python",
   "name": "python",
   "nbconvert_exporter": "python",
   "pygments_lexer": "ipython3",
   "version": "3.8.13"
  }
 },
 "nbformat": 4,
 "nbformat_minor": 1
}
